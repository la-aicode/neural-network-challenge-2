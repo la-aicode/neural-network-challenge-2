{
 "cells": [
  {
   "cell_type": "markdown",
   "metadata": {
    "id": "alIIEHibGc3M"
   },
   "source": [
    "## Part 1: Preprocessing"
   ]
  },
  {
   "cell_type": "code",
   "execution_count": 1,
   "metadata": {
    "colab": {
     "base_uri": "https://localhost:8080/",
     "height": 325
    },
    "executionInfo": {
     "elapsed": 12323,
     "status": "ok",
     "timestamp": 1730699226906,
     "user": {
      "displayName": "Alexander Booth",
      "userId": "02269714993535573104"
     },
     "user_tz": 360
    },
    "id": "6eDUJ4NtGc3P",
    "outputId": "eeae54b5-3d17-442d-94ba-00dd55b89964"
   },
   "outputs": [
    {
     "data": {
      "text/html": [
       "<div>\n",
       "<style scoped>\n",
       "    .dataframe tbody tr th:only-of-type {\n",
       "        vertical-align: middle;\n",
       "    }\n",
       "\n",
       "    .dataframe tbody tr th {\n",
       "        vertical-align: top;\n",
       "    }\n",
       "\n",
       "    .dataframe thead th {\n",
       "        text-align: right;\n",
       "    }\n",
       "</style>\n",
       "<table border=\"1\" class=\"dataframe\">\n",
       "  <thead>\n",
       "    <tr style=\"text-align: right;\">\n",
       "      <th></th>\n",
       "      <th>Age</th>\n",
       "      <th>Attrition</th>\n",
       "      <th>BusinessTravel</th>\n",
       "      <th>Department</th>\n",
       "      <th>DistanceFromHome</th>\n",
       "      <th>Education</th>\n",
       "      <th>EducationField</th>\n",
       "      <th>EnvironmentSatisfaction</th>\n",
       "      <th>HourlyRate</th>\n",
       "      <th>JobInvolvement</th>\n",
       "      <th>...</th>\n",
       "      <th>PerformanceRating</th>\n",
       "      <th>RelationshipSatisfaction</th>\n",
       "      <th>StockOptionLevel</th>\n",
       "      <th>TotalWorkingYears</th>\n",
       "      <th>TrainingTimesLastYear</th>\n",
       "      <th>WorkLifeBalance</th>\n",
       "      <th>YearsAtCompany</th>\n",
       "      <th>YearsInCurrentRole</th>\n",
       "      <th>YearsSinceLastPromotion</th>\n",
       "      <th>YearsWithCurrManager</th>\n",
       "    </tr>\n",
       "  </thead>\n",
       "  <tbody>\n",
       "    <tr>\n",
       "      <th>0</th>\n",
       "      <td>41</td>\n",
       "      <td>Yes</td>\n",
       "      <td>Travel_Rarely</td>\n",
       "      <td>Sales</td>\n",
       "      <td>1</td>\n",
       "      <td>2</td>\n",
       "      <td>Life Sciences</td>\n",
       "      <td>2</td>\n",
       "      <td>94</td>\n",
       "      <td>3</td>\n",
       "      <td>...</td>\n",
       "      <td>3</td>\n",
       "      <td>1</td>\n",
       "      <td>0</td>\n",
       "      <td>8</td>\n",
       "      <td>0</td>\n",
       "      <td>1</td>\n",
       "      <td>6</td>\n",
       "      <td>4</td>\n",
       "      <td>0</td>\n",
       "      <td>5</td>\n",
       "    </tr>\n",
       "    <tr>\n",
       "      <th>1</th>\n",
       "      <td>49</td>\n",
       "      <td>No</td>\n",
       "      <td>Travel_Frequently</td>\n",
       "      <td>Research &amp; Development</td>\n",
       "      <td>8</td>\n",
       "      <td>1</td>\n",
       "      <td>Life Sciences</td>\n",
       "      <td>3</td>\n",
       "      <td>61</td>\n",
       "      <td>2</td>\n",
       "      <td>...</td>\n",
       "      <td>4</td>\n",
       "      <td>4</td>\n",
       "      <td>1</td>\n",
       "      <td>10</td>\n",
       "      <td>3</td>\n",
       "      <td>3</td>\n",
       "      <td>10</td>\n",
       "      <td>7</td>\n",
       "      <td>1</td>\n",
       "      <td>7</td>\n",
       "    </tr>\n",
       "    <tr>\n",
       "      <th>2</th>\n",
       "      <td>37</td>\n",
       "      <td>Yes</td>\n",
       "      <td>Travel_Rarely</td>\n",
       "      <td>Research &amp; Development</td>\n",
       "      <td>2</td>\n",
       "      <td>2</td>\n",
       "      <td>Other</td>\n",
       "      <td>4</td>\n",
       "      <td>92</td>\n",
       "      <td>2</td>\n",
       "      <td>...</td>\n",
       "      <td>3</td>\n",
       "      <td>2</td>\n",
       "      <td>0</td>\n",
       "      <td>7</td>\n",
       "      <td>3</td>\n",
       "      <td>3</td>\n",
       "      <td>0</td>\n",
       "      <td>0</td>\n",
       "      <td>0</td>\n",
       "      <td>0</td>\n",
       "    </tr>\n",
       "    <tr>\n",
       "      <th>3</th>\n",
       "      <td>33</td>\n",
       "      <td>No</td>\n",
       "      <td>Travel_Frequently</td>\n",
       "      <td>Research &amp; Development</td>\n",
       "      <td>3</td>\n",
       "      <td>4</td>\n",
       "      <td>Life Sciences</td>\n",
       "      <td>4</td>\n",
       "      <td>56</td>\n",
       "      <td>3</td>\n",
       "      <td>...</td>\n",
       "      <td>3</td>\n",
       "      <td>3</td>\n",
       "      <td>0</td>\n",
       "      <td>8</td>\n",
       "      <td>3</td>\n",
       "      <td>3</td>\n",
       "      <td>8</td>\n",
       "      <td>7</td>\n",
       "      <td>3</td>\n",
       "      <td>0</td>\n",
       "    </tr>\n",
       "    <tr>\n",
       "      <th>4</th>\n",
       "      <td>27</td>\n",
       "      <td>No</td>\n",
       "      <td>Travel_Rarely</td>\n",
       "      <td>Research &amp; Development</td>\n",
       "      <td>2</td>\n",
       "      <td>1</td>\n",
       "      <td>Medical</td>\n",
       "      <td>1</td>\n",
       "      <td>40</td>\n",
       "      <td>3</td>\n",
       "      <td>...</td>\n",
       "      <td>3</td>\n",
       "      <td>4</td>\n",
       "      <td>1</td>\n",
       "      <td>6</td>\n",
       "      <td>3</td>\n",
       "      <td>3</td>\n",
       "      <td>2</td>\n",
       "      <td>2</td>\n",
       "      <td>2</td>\n",
       "      <td>2</td>\n",
       "    </tr>\n",
       "  </tbody>\n",
       "</table>\n",
       "<p>5 rows × 27 columns</p>\n",
       "</div>"
      ],
      "text/plain": [
       "   Age Attrition     BusinessTravel              Department  DistanceFromHome  \\\n",
       "0   41       Yes      Travel_Rarely                   Sales                 1   \n",
       "1   49        No  Travel_Frequently  Research & Development                 8   \n",
       "2   37       Yes      Travel_Rarely  Research & Development                 2   \n",
       "3   33        No  Travel_Frequently  Research & Development                 3   \n",
       "4   27        No      Travel_Rarely  Research & Development                 2   \n",
       "\n",
       "   Education EducationField  EnvironmentSatisfaction  HourlyRate  \\\n",
       "0          2  Life Sciences                        2          94   \n",
       "1          1  Life Sciences                        3          61   \n",
       "2          2          Other                        4          92   \n",
       "3          4  Life Sciences                        4          56   \n",
       "4          1        Medical                        1          40   \n",
       "\n",
       "   JobInvolvement  ...  PerformanceRating RelationshipSatisfaction  \\\n",
       "0               3  ...                  3                        1   \n",
       "1               2  ...                  4                        4   \n",
       "2               2  ...                  3                        2   \n",
       "3               3  ...                  3                        3   \n",
       "4               3  ...                  3                        4   \n",
       "\n",
       "   StockOptionLevel TotalWorkingYears  TrainingTimesLastYear WorkLifeBalance  \\\n",
       "0                 0                 8                      0               1   \n",
       "1                 1                10                      3               3   \n",
       "2                 0                 7                      3               3   \n",
       "3                 0                 8                      3               3   \n",
       "4                 1                 6                      3               3   \n",
       "\n",
       "   YearsAtCompany  YearsInCurrentRole  YearsSinceLastPromotion  \\\n",
       "0               6                   4                        0   \n",
       "1              10                   7                        1   \n",
       "2               0                   0                        0   \n",
       "3               8                   7                        3   \n",
       "4               2                   2                        2   \n",
       "\n",
       "   YearsWithCurrManager  \n",
       "0                     5  \n",
       "1                     7  \n",
       "2                     0  \n",
       "3                     0  \n",
       "4                     2  \n",
       "\n",
       "[5 rows x 27 columns]"
      ]
     },
     "execution_count": 1,
     "metadata": {},
     "output_type": "execute_result"
    }
   ],
   "source": [
    "# Import our dependencies\n",
    "from sklearn.model_selection import train_test_split\n",
    "from sklearn.preprocessing import StandardScaler\n",
    "import pandas as pd\n",
    "import numpy as np\n",
    "from tensorflow.keras.models import Model\n",
    "from tensorflow.keras import layers, models\n",
    "from tensorflow.keras.optimizers import Adam\n",
    "#  Import and read the attrition data\n",
    "attrition_df = pd.read_csv('https://static.bc-edx.com/ai/ail-v-1-0/m19/lms/datasets/attrition.csv')\n",
    "attrition_df.head()"
   ]
  },
  {
   "cell_type": "code",
   "execution_count": 2,
   "metadata": {
    "colab": {
     "base_uri": "https://localhost:8080/",
     "height": 930
    },
    "executionInfo": {
     "elapsed": 10,
     "status": "ok",
     "timestamp": 1730699226906,
     "user": {
      "displayName": "Alexander Booth",
      "userId": "02269714993535573104"
     },
     "user_tz": 360
    },
    "id": "g22aQSY4Gc3Q",
    "outputId": "e8b68509-45d8-42e0-a9db-1bdce48e4b2d"
   },
   "outputs": [
    {
     "data": {
      "text/plain": [
       "Age                         43\n",
       "Attrition                    2\n",
       "BusinessTravel               3\n",
       "Department                   3\n",
       "DistanceFromHome            29\n",
       "Education                    5\n",
       "EducationField               6\n",
       "EnvironmentSatisfaction      4\n",
       "HourlyRate                  71\n",
       "JobInvolvement               4\n",
       "JobLevel                     5\n",
       "JobRole                      9\n",
       "JobSatisfaction              4\n",
       "MaritalStatus                3\n",
       "NumCompaniesWorked          10\n",
       "OverTime                     2\n",
       "PercentSalaryHike           15\n",
       "PerformanceRating            2\n",
       "RelationshipSatisfaction     4\n",
       "StockOptionLevel             4\n",
       "TotalWorkingYears           40\n",
       "TrainingTimesLastYear        7\n",
       "WorkLifeBalance              4\n",
       "YearsAtCompany              37\n",
       "YearsInCurrentRole          19\n",
       "YearsSinceLastPromotion     16\n",
       "YearsWithCurrManager        18\n",
       "dtype: int64"
      ]
     },
     "execution_count": 2,
     "metadata": {},
     "output_type": "execute_result"
    }
   ],
   "source": [
    "# Determine the number of unique values in each column\n",
    "attrition_df.nunique()"
   ]
  },
  {
   "cell_type": "code",
   "execution_count": 3,
   "metadata": {
    "executionInfo": {
     "elapsed": 7,
     "status": "ok",
     "timestamp": 1730699226906,
     "user": {
      "displayName": "Alexander Booth",
      "userId": "02269714993535573104"
     },
     "user_tz": 360
    },
    "id": "50vMgBEnJbfM"
   },
   "outputs": [
    {
     "data": {
      "text/html": [
       "<div>\n",
       "<style scoped>\n",
       "    .dataframe tbody tr th:only-of-type {\n",
       "        vertical-align: middle;\n",
       "    }\n",
       "\n",
       "    .dataframe tbody tr th {\n",
       "        vertical-align: top;\n",
       "    }\n",
       "\n",
       "    .dataframe thead th {\n",
       "        text-align: right;\n",
       "    }\n",
       "</style>\n",
       "<table border=\"1\" class=\"dataframe\">\n",
       "  <thead>\n",
       "    <tr style=\"text-align: right;\">\n",
       "      <th></th>\n",
       "      <th>Attrition</th>\n",
       "      <th>Department</th>\n",
       "    </tr>\n",
       "  </thead>\n",
       "  <tbody>\n",
       "    <tr>\n",
       "      <th>0</th>\n",
       "      <td>Yes</td>\n",
       "      <td>Sales</td>\n",
       "    </tr>\n",
       "    <tr>\n",
       "      <th>1</th>\n",
       "      <td>No</td>\n",
       "      <td>Research &amp; Development</td>\n",
       "    </tr>\n",
       "    <tr>\n",
       "      <th>2</th>\n",
       "      <td>Yes</td>\n",
       "      <td>Research &amp; Development</td>\n",
       "    </tr>\n",
       "    <tr>\n",
       "      <th>3</th>\n",
       "      <td>No</td>\n",
       "      <td>Research &amp; Development</td>\n",
       "    </tr>\n",
       "    <tr>\n",
       "      <th>4</th>\n",
       "      <td>No</td>\n",
       "      <td>Research &amp; Development</td>\n",
       "    </tr>\n",
       "  </tbody>\n",
       "</table>\n",
       "</div>"
      ],
      "text/plain": [
       "  Attrition              Department\n",
       "0       Yes                   Sales\n",
       "1        No  Research & Development\n",
       "2       Yes  Research & Development\n",
       "3        No  Research & Development\n",
       "4        No  Research & Development"
      ]
     },
     "execution_count": 3,
     "metadata": {},
     "output_type": "execute_result"
    }
   ],
   "source": [
    "\n",
    "# Create y_df with the Attrition and Department columns\n",
    "y_df = attrition_df[['Attrition', 'Department']]\n",
    "y_df.head()\n",
    "        "
   ]
  },
  {
   "cell_type": "code",
   "execution_count": 4,
   "metadata": {
    "colab": {
     "base_uri": "https://localhost:8080/",
     "height": 397
    },
    "executionInfo": {
     "elapsed": 125,
     "status": "ok",
     "timestamp": 1730699227025,
     "user": {
      "displayName": "Alexander Booth",
      "userId": "02269714993535573104"
     },
     "user_tz": 360
    },
    "id": "Virka0zLGc3R",
    "outputId": "24f181c9-7e2e-42cb-94e8-a75842f1ab01"
   },
   "outputs": [
    {
     "data": {
      "text/plain": [
       "Age                        int64\n",
       "DistanceFromHome           int64\n",
       "Education                  int64\n",
       "EnvironmentSatisfaction    int64\n",
       "HourlyRate                 int64\n",
       "JobInvolvement             int64\n",
       "JobLevel                   int64\n",
       "JobSatisfaction            int64\n",
       "NumCompaniesWorked         int64\n",
       "TotalWorkingYears          int64\n",
       "dtype: object"
      ]
     },
     "execution_count": 4,
     "metadata": {},
     "output_type": "execute_result"
    }
   ],
   "source": [
    "\n",
    "# Create a list of at least 10 column names to use as X data\n",
    "selected_columns = ['Age', 'DistanceFromHome', 'Education', 'EnvironmentSatisfaction',\n",
    "                    'HourlyRate', 'JobInvolvement', 'JobLevel', 'JobSatisfaction',\n",
    "                    'NumCompaniesWorked', 'TotalWorkingYears']\n",
    "\n",
    "# Create X_df using selected columns\n",
    "X_df = attrition_df[selected_columns]\n",
    "\n",
    "# Show the data types for X_df\n",
    "X_df.dtypes\n",
    "        "
   ]
  },
  {
   "cell_type": "code",
   "execution_count": 5,
   "metadata": {
    "executionInfo": {
     "elapsed": 9,
     "status": "ok",
     "timestamp": 1730699227025,
     "user": {
      "displayName": "Alexander Booth",
      "userId": "02269714993535573104"
     },
     "user_tz": 360
    },
    "id": "KaJfdOGUMHMR"
   },
   "outputs": [
    {
     "data": {
      "text/plain": [
       "((1176, 10), (294, 10), (1176, 2), (294, 2))"
      ]
     },
     "execution_count": 5,
     "metadata": {},
     "output_type": "execute_result"
    }
   ],
   "source": [
    "\n",
    "# Split the data into training and testing sets\n",
    "X_train, X_test, y_train, y_test = train_test_split(X_df, y_df, test_size=0.2, random_state=42)\n",
    "\n",
    "# Display the shape of training and testing sets\n",
    "X_train.shape, X_test.shape, y_train.shape, y_test.shape\n",
    "        "
   ]
  },
  {
   "cell_type": "code",
   "execution_count": 6,
   "metadata": {
    "colab": {
     "base_uri": "https://localhost:8080/",
     "height": 178
    },
    "executionInfo": {
     "elapsed": 8,
     "status": "ok",
     "timestamp": 1730699227025,
     "user": {
      "displayName": "Alexander Booth",
      "userId": "02269714993535573104"
     },
     "user_tz": 360
    },
    "id": "NYubUJqiLCSp",
    "outputId": "6116187c-4afa-4d4a-aeb9-fdc2131d0d58"
   },
   "outputs": [
    {
     "name": "stdout",
     "output_type": "stream",
     "text": [
      "Categorical Columns: Index([], dtype='object')\n",
      "Updated Data Types:\n",
      "Age                        int64\n",
      "DistanceFromHome           int64\n",
      "Education                  int64\n",
      "EnvironmentSatisfaction    int64\n",
      "HourlyRate                 int64\n",
      "JobInvolvement             int64\n",
      "JobLevel                   int64\n",
      "JobSatisfaction            int64\n",
      "NumCompaniesWorked         int64\n",
      "TotalWorkingYears          int64\n",
      "dtype: object\n"
     ]
    }
   ],
   "source": [
    "# Convert your X data to numeric data types however you see fit\n",
    "# Add new code cells as necessary\n",
    "# Identify categorical columns in X_df\n",
    "categorical_columns = X_df.select_dtypes(include=['object']).columns\n",
    "print(\"Categorical Columns:\", categorical_columns)\n",
    "\n",
    "# Convert categorical columns using one-hot encoding\n",
    "X_df = pd.get_dummies(X_df, columns=categorical_columns, drop_first=True)\n",
    "\n",
    "# Verify all columns are now numeric\n",
    "print(\"Updated Data Types:\")\n",
    "print(X_df.dtypes)"
   ]
  },
  {
   "cell_type": "code",
   "execution_count": 7,
   "metadata": {
    "executionInfo": {
     "elapsed": 6,
     "status": "ok",
     "timestamp": 1730699227162,
     "user": {
      "displayName": "Alexander Booth",
      "userId": "02269714993535573104"
     },
     "user_tz": 360
    },
    "id": "EWA-aIA5Gc3T"
   },
   "outputs": [
    {
     "data": {
      "text/html": [
       "<div>\n",
       "<style scoped>\n",
       "    .dataframe tbody tr th:only-of-type {\n",
       "        vertical-align: middle;\n",
       "    }\n",
       "\n",
       "    .dataframe tbody tr th {\n",
       "        vertical-align: top;\n",
       "    }\n",
       "\n",
       "    .dataframe thead th {\n",
       "        text-align: right;\n",
       "    }\n",
       "</style>\n",
       "<table border=\"1\" class=\"dataframe\">\n",
       "  <thead>\n",
       "    <tr style=\"text-align: right;\">\n",
       "      <th></th>\n",
       "      <th>Age</th>\n",
       "      <th>DistanceFromHome</th>\n",
       "      <th>Education</th>\n",
       "      <th>EnvironmentSatisfaction</th>\n",
       "      <th>HourlyRate</th>\n",
       "      <th>JobInvolvement</th>\n",
       "      <th>JobLevel</th>\n",
       "      <th>JobSatisfaction</th>\n",
       "      <th>NumCompaniesWorked</th>\n",
       "      <th>TotalWorkingYears</th>\n",
       "    </tr>\n",
       "  </thead>\n",
       "  <tbody>\n",
       "    <tr>\n",
       "      <th>0</th>\n",
       "      <td>-1.388559</td>\n",
       "      <td>1.440396</td>\n",
       "      <td>-0.863356</td>\n",
       "      <td>0.279706</td>\n",
       "      <td>-0.472832</td>\n",
       "      <td>-1.012340</td>\n",
       "      <td>-0.932274</td>\n",
       "      <td>-1.582336</td>\n",
       "      <td>-1.059168</td>\n",
       "      <td>-1.167368</td>\n",
       "    </tr>\n",
       "    <tr>\n",
       "      <th>1</th>\n",
       "      <td>-2.040738</td>\n",
       "      <td>-0.522699</td>\n",
       "      <td>-0.863356</td>\n",
       "      <td>-0.639104</td>\n",
       "      <td>0.309374</td>\n",
       "      <td>0.389912</td>\n",
       "      <td>-0.932274</td>\n",
       "      <td>1.152834</td>\n",
       "      <td>-0.659431</td>\n",
       "      <td>-1.423397</td>\n",
       "    </tr>\n",
       "    <tr>\n",
       "      <th>2</th>\n",
       "      <td>-0.845077</td>\n",
       "      <td>1.317703</td>\n",
       "      <td>-0.863356</td>\n",
       "      <td>1.198515</td>\n",
       "      <td>-1.059487</td>\n",
       "      <td>0.389912</td>\n",
       "      <td>-0.025447</td>\n",
       "      <td>1.152834</td>\n",
       "      <td>-0.259693</td>\n",
       "      <td>-0.143254</td>\n",
       "    </tr>\n",
       "    <tr>\n",
       "      <th>3</th>\n",
       "      <td>0.241886</td>\n",
       "      <td>0.336155</td>\n",
       "      <td>0.099933</td>\n",
       "      <td>1.198515</td>\n",
       "      <td>-0.032841</td>\n",
       "      <td>0.389912</td>\n",
       "      <td>-0.025447</td>\n",
       "      <td>-0.670613</td>\n",
       "      <td>0.539781</td>\n",
       "      <td>-0.527297</td>\n",
       "    </tr>\n",
       "    <tr>\n",
       "      <th>4</th>\n",
       "      <td>-0.627685</td>\n",
       "      <td>1.317703</td>\n",
       "      <td>0.099933</td>\n",
       "      <td>-0.639104</td>\n",
       "      <td>1.091580</td>\n",
       "      <td>0.389912</td>\n",
       "      <td>-0.025447</td>\n",
       "      <td>0.241111</td>\n",
       "      <td>-0.659431</td>\n",
       "      <td>-0.143254</td>\n",
       "    </tr>\n",
       "  </tbody>\n",
       "</table>\n",
       "</div>"
      ],
      "text/plain": [
       "        Age  DistanceFromHome  Education  EnvironmentSatisfaction  HourlyRate  \\\n",
       "0 -1.388559          1.440396  -0.863356                 0.279706   -0.472832   \n",
       "1 -2.040738         -0.522699  -0.863356                -0.639104    0.309374   \n",
       "2 -0.845077          1.317703  -0.863356                 1.198515   -1.059487   \n",
       "3  0.241886          0.336155   0.099933                 1.198515   -0.032841   \n",
       "4 -0.627685          1.317703   0.099933                -0.639104    1.091580   \n",
       "\n",
       "   JobInvolvement  JobLevel  JobSatisfaction  NumCompaniesWorked  \\\n",
       "0       -1.012340 -0.932274        -1.582336           -1.059168   \n",
       "1        0.389912 -0.932274         1.152834           -0.659431   \n",
       "2        0.389912 -0.025447         1.152834           -0.259693   \n",
       "3        0.389912 -0.025447        -0.670613            0.539781   \n",
       "4        0.389912 -0.025447         0.241111           -0.659431   \n",
       "\n",
       "   TotalWorkingYears  \n",
       "0          -1.167368  \n",
       "1          -1.423397  \n",
       "2          -0.143254  \n",
       "3          -0.527297  \n",
       "4          -0.143254  "
      ]
     },
     "execution_count": 7,
     "metadata": {},
     "output_type": "execute_result"
    }
   ],
   "source": [
    "# Create a StandardScaler\n",
    "scaler = StandardScaler()\n",
    "\n",
    "# Fit the StandardScaler to the training data\n",
    "scaler.fit(X_train)\n",
    "\n",
    "# Scale the training and testing data\n",
    "X_train_scaled = scaler.transform(X_train)\n",
    "X_test_scaled = scaler.transform(X_test)\n",
    "\n",
    "# Convert back to DataFrame for better interpretability\n",
    "X_train_scaled = pd.DataFrame(X_train_scaled, columns=X_train.columns)\n",
    "X_test_scaled = pd.DataFrame(X_test_scaled, columns=X_test.columns)\n",
    "\n",
    "# Display scaled training data\n",
    "X_train_scaled.head()"
   ]
  },
  {
   "cell_type": "code",
   "execution_count": 8,
   "metadata": {
    "colab": {
     "base_uri": "https://localhost:8080/"
    },
    "executionInfo": {
     "elapsed": 99,
     "status": "ok",
     "timestamp": 1730699227256,
     "user": {
      "displayName": "Alexander Booth",
      "userId": "02269714993535573104"
     },
     "user_tz": 360
    },
    "id": "-z0Mky8vQSz4",
    "outputId": "5024d63f-7e4e-4a91-fb76-0b2c79c1bcfb"
   },
   "outputs": [
    {
     "data": {
      "text/html": [
       "<div>\n",
       "<style scoped>\n",
       "    .dataframe tbody tr th:only-of-type {\n",
       "        vertical-align: middle;\n",
       "    }\n",
       "\n",
       "    .dataframe tbody tr th {\n",
       "        vertical-align: top;\n",
       "    }\n",
       "\n",
       "    .dataframe thead th {\n",
       "        text-align: right;\n",
       "    }\n",
       "</style>\n",
       "<table border=\"1\" class=\"dataframe\">\n",
       "  <thead>\n",
       "    <tr style=\"text-align: right;\">\n",
       "      <th></th>\n",
       "      <th>Attrition</th>\n",
       "      <th>Department_Research &amp; Development</th>\n",
       "      <th>Department_Sales</th>\n",
       "    </tr>\n",
       "  </thead>\n",
       "  <tbody>\n",
       "    <tr>\n",
       "      <th>1097</th>\n",
       "      <td>No</td>\n",
       "      <td>1.0</td>\n",
       "      <td>0.0</td>\n",
       "    </tr>\n",
       "    <tr>\n",
       "      <th>727</th>\n",
       "      <td>No</td>\n",
       "      <td>1.0</td>\n",
       "      <td>0.0</td>\n",
       "    </tr>\n",
       "    <tr>\n",
       "      <th>254</th>\n",
       "      <td>No</td>\n",
       "      <td>0.0</td>\n",
       "      <td>1.0</td>\n",
       "    </tr>\n",
       "    <tr>\n",
       "      <th>1175</th>\n",
       "      <td>No</td>\n",
       "      <td>1.0</td>\n",
       "      <td>0.0</td>\n",
       "    </tr>\n",
       "    <tr>\n",
       "      <th>1341</th>\n",
       "      <td>No</td>\n",
       "      <td>1.0</td>\n",
       "      <td>0.0</td>\n",
       "    </tr>\n",
       "  </tbody>\n",
       "</table>\n",
       "</div>"
      ],
      "text/plain": [
       "     Attrition  Department_Research & Development  Department_Sales\n",
       "1097        No                                1.0               0.0\n",
       "727         No                                1.0               0.0\n",
       "254         No                                0.0               1.0\n",
       "1175        No                                1.0               0.0\n",
       "1341        No                                1.0               0.0"
      ]
     },
     "execution_count": 8,
     "metadata": {},
     "output_type": "execute_result"
    }
   ],
   "source": [
    "from sklearn.preprocessing import OneHotEncoder\n",
    "\n",
    "# Create a OneHotEncoder for the Department column\n",
    "encoder = OneHotEncoder(drop='first', sparse_output=False)\n",
    "\n",
    "# Reshape the 'Department' column (since OneHotEncoder expects a 2D array)\n",
    "y_train_department = y_train[['Department']]\n",
    "y_test_department = y_test[['Department']]\n",
    "\n",
    "# Fit the encoder to the training data\n",
    "encoder.fit(y_train_department)\n",
    "# Apply the encoder to the training and testing data\n",
    "y_train_encoded = encoder.transform(y_train_department)\n",
    "y_test_encoded = encoder.transform(y_test_department)\n",
    "\n",
    "# Create two new variables by applying the encoder\n",
    "# to the training and testing data\n",
    "# Convert encoded arrays into DataFrames\n",
    "encoded_columns = encoder.get_feature_names_out(['Department'])\n",
    "y_train_encoded = pd.DataFrame(y_train_encoded, columns=encoded_columns, index=y_train.index)\n",
    "y_test_encoded = pd.DataFrame(y_test_encoded, columns=encoded_columns, index=y_test.index)\n",
    "# Drop the original 'Department' column and merge the encoded values\n",
    "y_train = y_train.drop(columns=['Department']).join(y_train_encoded)\n",
    "y_test = y_test.drop(columns=['Department']).join(y_test_encoded)\n",
    "\n",
    "# Display the transformed training labels\n",
    "y_train.head()\n",
    "\n"
   ]
  },
  {
   "cell_type": "code",
   "execution_count": 9,
   "metadata": {
    "colab": {
     "base_uri": "https://localhost:8080/"
    },
    "executionInfo": {
     "elapsed": 5,
     "status": "ok",
     "timestamp": 1730699227257,
     "user": {
      "displayName": "Alexander Booth",
      "userId": "02269714993535573104"
     },
     "user_tz": 360
    },
    "id": "-G4DSpvFRrk4",
    "outputId": "1821049e-a4f0-437f-b8a7-e415431fbdb0"
   },
   "outputs": [
    {
     "data": {
      "text/html": [
       "<div>\n",
       "<style scoped>\n",
       "    .dataframe tbody tr th:only-of-type {\n",
       "        vertical-align: middle;\n",
       "    }\n",
       "\n",
       "    .dataframe tbody tr th {\n",
       "        vertical-align: top;\n",
       "    }\n",
       "\n",
       "    .dataframe thead th {\n",
       "        text-align: right;\n",
       "    }\n",
       "</style>\n",
       "<table border=\"1\" class=\"dataframe\">\n",
       "  <thead>\n",
       "    <tr style=\"text-align: right;\">\n",
       "      <th></th>\n",
       "      <th>Department_Research &amp; Development</th>\n",
       "      <th>Department_Sales</th>\n",
       "      <th>Attrition_Yes</th>\n",
       "    </tr>\n",
       "  </thead>\n",
       "  <tbody>\n",
       "    <tr>\n",
       "      <th>1097</th>\n",
       "      <td>1.0</td>\n",
       "      <td>0.0</td>\n",
       "      <td>0.0</td>\n",
       "    </tr>\n",
       "    <tr>\n",
       "      <th>727</th>\n",
       "      <td>1.0</td>\n",
       "      <td>0.0</td>\n",
       "      <td>0.0</td>\n",
       "    </tr>\n",
       "    <tr>\n",
       "      <th>254</th>\n",
       "      <td>0.0</td>\n",
       "      <td>1.0</td>\n",
       "      <td>0.0</td>\n",
       "    </tr>\n",
       "    <tr>\n",
       "      <th>1175</th>\n",
       "      <td>1.0</td>\n",
       "      <td>0.0</td>\n",
       "      <td>0.0</td>\n",
       "    </tr>\n",
       "    <tr>\n",
       "      <th>1341</th>\n",
       "      <td>1.0</td>\n",
       "      <td>0.0</td>\n",
       "      <td>0.0</td>\n",
       "    </tr>\n",
       "  </tbody>\n",
       "</table>\n",
       "</div>"
      ],
      "text/plain": [
       "      Department_Research & Development  Department_Sales  Attrition_Yes\n",
       "1097                                1.0               0.0            0.0\n",
       "727                                 1.0               0.0            0.0\n",
       "254                                 0.0               1.0            0.0\n",
       "1175                                1.0               0.0            0.0\n",
       "1341                                1.0               0.0            0.0"
      ]
     },
     "execution_count": 9,
     "metadata": {},
     "output_type": "execute_result"
    }
   ],
   "source": [
    "# Create a OneHotEncoder for the Attrition column\n",
    "encoder = OneHotEncoder(drop='first', sparse_output=False)\n",
    "# Reshape the 'Attrition' column (since OneHotEncoder expects a 2D array)\n",
    "y_train_attrition = y_train[['Attrition']]\n",
    "y_test_attrition = y_test[['Attrition']]\n",
    "\n",
    "# Fit the encoder to the training data\n",
    "encoder.fit(y_train_attrition)\n",
    "\n",
    "# Create two new variables by applying the encoder\n",
    "# to the training and testing data\n",
    "# Apply the encoder to the training and testing data\n",
    "y_train_encoded = encoder.transform(y_train_attrition)\n",
    "y_test_encoded = encoder.transform(y_test_attrition)\n",
    "\n",
    "# Convert encoded arrays into DataFrames\n",
    "encoded_columns = encoder.get_feature_names_out(['Attrition'])\n",
    "y_train_encoded = pd.DataFrame(y_train_encoded, columns=encoded_columns, index=y_train.index)\n",
    "y_test_encoded = pd.DataFrame(y_test_encoded, columns=encoded_columns, index=y_test.index)\n",
    "\n",
    "# Drop the original 'Attrition' column and merge the encoded values\n",
    "y_train = y_train.drop(columns=['Attrition']).join(y_train_encoded)\n",
    "y_test = y_test.drop(columns=['Attrition']).join(y_test_encoded)\n",
    "\n",
    "# Display the transformed training labels\n",
    "y_train.head()"
   ]
  },
  {
   "cell_type": "markdown",
   "metadata": {
    "id": "ykNmu_WWGc3T"
   },
   "source": [
    "## Part 2: Create, Compile, and Train the Model"
   ]
  },
  {
   "cell_type": "code",
   "execution_count": 10,
   "metadata": {
    "executionInfo": {
     "elapsed": 309,
     "status": "ok",
     "timestamp": 1730699227563,
     "user": {
      "displayName": "Alexander Booth",
      "userId": "02269714993535573104"
     },
     "user_tz": 360
    },
    "id": "WUptZqmSGc3T"
   },
   "outputs": [
    {
     "name": "stdout",
     "output_type": "stream",
     "text": [
      "Number of input features: 10\n"
     ]
    },
    {
     "data": {
      "text/html": [
       "<pre style=\"white-space:pre;overflow-x:auto;line-height:normal;font-family:Menlo,'DejaVu Sans Mono',consolas,'Courier New',monospace\"><span style=\"font-weight: bold\">Model: \"functional\"</span>\n",
       "</pre>\n"
      ],
      "text/plain": [
       "\u001b[1mModel: \"functional\"\u001b[0m\n"
      ]
     },
     "metadata": {},
     "output_type": "display_data"
    },
    {
     "data": {
      "text/html": [
       "<pre style=\"white-space:pre;overflow-x:auto;line-height:normal;font-family:Menlo,'DejaVu Sans Mono',consolas,'Courier New',monospace\">┏━━━━━━━━━━━━━━━━━━━━━━━━━━━━━━━━━┳━━━━━━━━━━━━━━━━━━━━━━━━┳━━━━━━━━━━━━━━━┓\n",
       "┃<span style=\"font-weight: bold\"> Layer (type)                    </span>┃<span style=\"font-weight: bold\"> Output Shape           </span>┃<span style=\"font-weight: bold\">       Param # </span>┃\n",
       "┡━━━━━━━━━━━━━━━━━━━━━━━━━━━━━━━━━╇━━━━━━━━━━━━━━━━━━━━━━━━╇━━━━━━━━━━━━━━━┩\n",
       "│ input_layer (<span style=\"color: #0087ff; text-decoration-color: #0087ff\">InputLayer</span>)        │ (<span style=\"color: #00d7ff; text-decoration-color: #00d7ff\">None</span>, <span style=\"color: #00af00; text-decoration-color: #00af00\">10</span>)             │             <span style=\"color: #00af00; text-decoration-color: #00af00\">0</span> │\n",
       "├─────────────────────────────────┼────────────────────────┼───────────────┤\n",
       "│ dense (<span style=\"color: #0087ff; text-decoration-color: #0087ff\">Dense</span>)                   │ (<span style=\"color: #00d7ff; text-decoration-color: #00d7ff\">None</span>, <span style=\"color: #00af00; text-decoration-color: #00af00\">64</span>)             │           <span style=\"color: #00af00; text-decoration-color: #00af00\">704</span> │\n",
       "├─────────────────────────────────┼────────────────────────┼───────────────┤\n",
       "│ dense_1 (<span style=\"color: #0087ff; text-decoration-color: #0087ff\">Dense</span>)                 │ (<span style=\"color: #00d7ff; text-decoration-color: #00d7ff\">None</span>, <span style=\"color: #00af00; text-decoration-color: #00af00\">32</span>)             │         <span style=\"color: #00af00; text-decoration-color: #00af00\">2,080</span> │\n",
       "└─────────────────────────────────┴────────────────────────┴───────────────┘\n",
       "</pre>\n"
      ],
      "text/plain": [
       "┏━━━━━━━━━━━━━━━━━━━━━━━━━━━━━━━━━┳━━━━━━━━━━━━━━━━━━━━━━━━┳━━━━━━━━━━━━━━━┓\n",
       "┃\u001b[1m \u001b[0m\u001b[1mLayer (type)                   \u001b[0m\u001b[1m \u001b[0m┃\u001b[1m \u001b[0m\u001b[1mOutput Shape          \u001b[0m\u001b[1m \u001b[0m┃\u001b[1m \u001b[0m\u001b[1m      Param #\u001b[0m\u001b[1m \u001b[0m┃\n",
       "┡━━━━━━━━━━━━━━━━━━━━━━━━━━━━━━━━━╇━━━━━━━━━━━━━━━━━━━━━━━━╇━━━━━━━━━━━━━━━┩\n",
       "│ input_layer (\u001b[38;5;33mInputLayer\u001b[0m)        │ (\u001b[38;5;45mNone\u001b[0m, \u001b[38;5;34m10\u001b[0m)             │             \u001b[38;5;34m0\u001b[0m │\n",
       "├─────────────────────────────────┼────────────────────────┼───────────────┤\n",
       "│ dense (\u001b[38;5;33mDense\u001b[0m)                   │ (\u001b[38;5;45mNone\u001b[0m, \u001b[38;5;34m64\u001b[0m)             │           \u001b[38;5;34m704\u001b[0m │\n",
       "├─────────────────────────────────┼────────────────────────┼───────────────┤\n",
       "│ dense_1 (\u001b[38;5;33mDense\u001b[0m)                 │ (\u001b[38;5;45mNone\u001b[0m, \u001b[38;5;34m32\u001b[0m)             │         \u001b[38;5;34m2,080\u001b[0m │\n",
       "└─────────────────────────────────┴────────────────────────┴───────────────┘\n"
      ]
     },
     "metadata": {},
     "output_type": "display_data"
    },
    {
     "data": {
      "text/html": [
       "<pre style=\"white-space:pre;overflow-x:auto;line-height:normal;font-family:Menlo,'DejaVu Sans Mono',consolas,'Courier New',monospace\"><span style=\"font-weight: bold\"> Total params: </span><span style=\"color: #00af00; text-decoration-color: #00af00\">2,784</span> (10.88 KB)\n",
       "</pre>\n"
      ],
      "text/plain": [
       "\u001b[1m Total params: \u001b[0m\u001b[38;5;34m2,784\u001b[0m (10.88 KB)\n"
      ]
     },
     "metadata": {},
     "output_type": "display_data"
    },
    {
     "data": {
      "text/html": [
       "<pre style=\"white-space:pre;overflow-x:auto;line-height:normal;font-family:Menlo,'DejaVu Sans Mono',consolas,'Courier New',monospace\"><span style=\"font-weight: bold\"> Trainable params: </span><span style=\"color: #00af00; text-decoration-color: #00af00\">2,784</span> (10.88 KB)\n",
       "</pre>\n"
      ],
      "text/plain": [
       "\u001b[1m Trainable params: \u001b[0m\u001b[38;5;34m2,784\u001b[0m (10.88 KB)\n"
      ]
     },
     "metadata": {},
     "output_type": "display_data"
    },
    {
     "data": {
      "text/html": [
       "<pre style=\"white-space:pre;overflow-x:auto;line-height:normal;font-family:Menlo,'DejaVu Sans Mono',consolas,'Courier New',monospace\"><span style=\"font-weight: bold\"> Non-trainable params: </span><span style=\"color: #00af00; text-decoration-color: #00af00\">0</span> (0.00 B)\n",
       "</pre>\n"
      ],
      "text/plain": [
       "\u001b[1m Non-trainable params: \u001b[0m\u001b[38;5;34m0\u001b[0m (0.00 B)\n"
      ]
     },
     "metadata": {},
     "output_type": "display_data"
    }
   ],
   "source": [
    "# Find the number of columns in the X training data.\n",
    "input_dim = X_train.shape[1]\n",
    "print(f\"Number of input features: {input_dim}\")\n",
    "\n",
    "# Create the input layer\n",
    "input_layer = layers.Input(shape=(input_dim,))\n",
    "\n",
    "# Create at least two shared layers\n",
    "hidden_layer1 = layers.Dense(units=64, activation='relu')(input_layer)\n",
    "hidden_layer2 = layers.Dense(units=32, activation='relu')(hidden_layer1)\n",
    "\n",
    "# Print model summary\n",
    "model = models.Model(inputs=input_layer, outputs=hidden_layer2)\n",
    "model.summary()"
   ]
  },
  {
   "cell_type": "code",
   "execution_count": 22,
   "metadata": {
    "executionInfo": {
     "elapsed": 118,
     "status": "ok",
     "timestamp": 1730699227678,
     "user": {
      "displayName": "Alexander Booth",
      "userId": "02269714993535573104"
     },
     "user_tz": 360
    },
    "id": "JukjTm2yTEqd"
   },
   "outputs": [],
   "source": [
    "# Create a branch for Department\n",
    "# with a hidden layer and an output layer\n",
    "num_department_classes = y_train.filter(like='Department_').shape[1]\n",
    "# Create the hidden layer\n",
    "department_hidden = layers.Dense(units=16, activation='relu')(hidden_layer2)\n",
    "\n",
    "# Create the output layer\n",
    "department_output = layers.Dense(units=y_train_department.shape[1], activation='softmax', name=\"Department_Output\")(department_hidden)"
   ]
  },
  {
   "cell_type": "code",
   "execution_count": 23,
   "metadata": {
    "executionInfo": {
     "elapsed": 9,
     "status": "ok",
     "timestamp": 1730699227679,
     "user": {
      "displayName": "Alexander Booth",
      "userId": "02269714993535573104"
     },
     "user_tz": 360
    },
    "id": "9OqhUiOJUBkR"
   },
   "outputs": [],
   "source": [
    "# Create a branch for Attrition\n",
    "# with a hidden layer and an output layer\n",
    "# Create the hidden layer\n",
    "attrition_hidden = layers.Dense(units=16, activation='relu')(hidden_layer2)\n",
    "\n",
    "# Create the output layer\n",
    "attrition_output = layers.Dense(units=1, activation='sigmoid', name=\"Attrition_Output\")(attrition_hidden)"
   ]
  },
  {
   "cell_type": "code",
   "execution_count": 24,
   "metadata": {
    "colab": {
     "base_uri": "https://localhost:8080/",
     "height": 361
    },
    "executionInfo": {
     "elapsed": 108,
     "status": "ok",
     "timestamp": 1730699227780,
     "user": {
      "displayName": "Alexander Booth",
      "userId": "02269714993535573104"
     },
     "user_tz": 360
    },
    "id": "twmuejdxGc3T",
    "outputId": "dd9ce242-6a66-4709-ba13-4b13551c22e0"
   },
   "outputs": [
    {
     "data": {
      "text/html": [
       "<pre style=\"white-space:pre;overflow-x:auto;line-height:normal;font-family:Menlo,'DejaVu Sans Mono',consolas,'Courier New',monospace\"><span style=\"font-weight: bold\">Model: \"functional_2\"</span>\n",
       "</pre>\n"
      ],
      "text/plain": [
       "\u001b[1mModel: \"functional_2\"\u001b[0m\n"
      ]
     },
     "metadata": {},
     "output_type": "display_data"
    },
    {
     "data": {
      "text/html": [
       "<pre style=\"white-space:pre;overflow-x:auto;line-height:normal;font-family:Menlo,'DejaVu Sans Mono',consolas,'Courier New',monospace\">┏━━━━━━━━━━━━━━━━━━━━━┳━━━━━━━━━━━━━━━━━━━┳━━━━━━━━━━━━┳━━━━━━━━━━━━━━━━━━━┓\n",
       "┃<span style=\"font-weight: bold\"> Layer (type)        </span>┃<span style=\"font-weight: bold\"> Output Shape      </span>┃<span style=\"font-weight: bold\">    Param # </span>┃<span style=\"font-weight: bold\"> Connected to      </span>┃\n",
       "┡━━━━━━━━━━━━━━━━━━━━━╇━━━━━━━━━━━━━━━━━━━╇━━━━━━━━━━━━╇━━━━━━━━━━━━━━━━━━━┩\n",
       "│ input_layer         │ (<span style=\"color: #00d7ff; text-decoration-color: #00d7ff\">None</span>, <span style=\"color: #00af00; text-decoration-color: #00af00\">10</span>)        │          <span style=\"color: #00af00; text-decoration-color: #00af00\">0</span> │ -                 │\n",
       "│ (<span style=\"color: #0087ff; text-decoration-color: #0087ff\">InputLayer</span>)        │                   │            │                   │\n",
       "├─────────────────────┼───────────────────┼────────────┼───────────────────┤\n",
       "│ dense (<span style=\"color: #0087ff; text-decoration-color: #0087ff\">Dense</span>)       │ (<span style=\"color: #00d7ff; text-decoration-color: #00d7ff\">None</span>, <span style=\"color: #00af00; text-decoration-color: #00af00\">64</span>)        │        <span style=\"color: #00af00; text-decoration-color: #00af00\">704</span> │ input_layer[<span style=\"color: #00af00; text-decoration-color: #00af00\">0</span>][<span style=\"color: #00af00; text-decoration-color: #00af00\">0</span>] │\n",
       "├─────────────────────┼───────────────────┼────────────┼───────────────────┤\n",
       "│ dense_1 (<span style=\"color: #0087ff; text-decoration-color: #0087ff\">Dense</span>)     │ (<span style=\"color: #00d7ff; text-decoration-color: #00d7ff\">None</span>, <span style=\"color: #00af00; text-decoration-color: #00af00\">32</span>)        │      <span style=\"color: #00af00; text-decoration-color: #00af00\">2,080</span> │ dense[<span style=\"color: #00af00; text-decoration-color: #00af00\">0</span>][<span style=\"color: #00af00; text-decoration-color: #00af00\">0</span>]       │\n",
       "├─────────────────────┼───────────────────┼────────────┼───────────────────┤\n",
       "│ dense_4 (<span style=\"color: #0087ff; text-decoration-color: #0087ff\">Dense</span>)     │ (<span style=\"color: #00d7ff; text-decoration-color: #00d7ff\">None</span>, <span style=\"color: #00af00; text-decoration-color: #00af00\">16</span>)        │        <span style=\"color: #00af00; text-decoration-color: #00af00\">528</span> │ dense_1[<span style=\"color: #00af00; text-decoration-color: #00af00\">0</span>][<span style=\"color: #00af00; text-decoration-color: #00af00\">0</span>]     │\n",
       "├─────────────────────┼───────────────────┼────────────┼───────────────────┤\n",
       "│ dense_5 (<span style=\"color: #0087ff; text-decoration-color: #0087ff\">Dense</span>)     │ (<span style=\"color: #00d7ff; text-decoration-color: #00d7ff\">None</span>, <span style=\"color: #00af00; text-decoration-color: #00af00\">16</span>)        │        <span style=\"color: #00af00; text-decoration-color: #00af00\">528</span> │ dense_1[<span style=\"color: #00af00; text-decoration-color: #00af00\">0</span>][<span style=\"color: #00af00; text-decoration-color: #00af00\">0</span>]     │\n",
       "├─────────────────────┼───────────────────┼────────────┼───────────────────┤\n",
       "│ Department_Output   │ (<span style=\"color: #00d7ff; text-decoration-color: #00d7ff\">None</span>, <span style=\"color: #00af00; text-decoration-color: #00af00\">2</span>)         │         <span style=\"color: #00af00; text-decoration-color: #00af00\">34</span> │ dense_4[<span style=\"color: #00af00; text-decoration-color: #00af00\">0</span>][<span style=\"color: #00af00; text-decoration-color: #00af00\">0</span>]     │\n",
       "│ (<span style=\"color: #0087ff; text-decoration-color: #0087ff\">Dense</span>)             │                   │            │                   │\n",
       "├─────────────────────┼───────────────────┼────────────┼───────────────────┤\n",
       "│ Attrition_Output    │ (<span style=\"color: #00d7ff; text-decoration-color: #00d7ff\">None</span>, <span style=\"color: #00af00; text-decoration-color: #00af00\">1</span>)         │         <span style=\"color: #00af00; text-decoration-color: #00af00\">17</span> │ dense_5[<span style=\"color: #00af00; text-decoration-color: #00af00\">0</span>][<span style=\"color: #00af00; text-decoration-color: #00af00\">0</span>]     │\n",
       "│ (<span style=\"color: #0087ff; text-decoration-color: #0087ff\">Dense</span>)             │                   │            │                   │\n",
       "└─────────────────────┴───────────────────┴────────────┴───────────────────┘\n",
       "</pre>\n"
      ],
      "text/plain": [
       "┏━━━━━━━━━━━━━━━━━━━━━┳━━━━━━━━━━━━━━━━━━━┳━━━━━━━━━━━━┳━━━━━━━━━━━━━━━━━━━┓\n",
       "┃\u001b[1m \u001b[0m\u001b[1mLayer (type)       \u001b[0m\u001b[1m \u001b[0m┃\u001b[1m \u001b[0m\u001b[1mOutput Shape     \u001b[0m\u001b[1m \u001b[0m┃\u001b[1m \u001b[0m\u001b[1m   Param #\u001b[0m\u001b[1m \u001b[0m┃\u001b[1m \u001b[0m\u001b[1mConnected to     \u001b[0m\u001b[1m \u001b[0m┃\n",
       "┡━━━━━━━━━━━━━━━━━━━━━╇━━━━━━━━━━━━━━━━━━━╇━━━━━━━━━━━━╇━━━━━━━━━━━━━━━━━━━┩\n",
       "│ input_layer         │ (\u001b[38;5;45mNone\u001b[0m, \u001b[38;5;34m10\u001b[0m)        │          \u001b[38;5;34m0\u001b[0m │ -                 │\n",
       "│ (\u001b[38;5;33mInputLayer\u001b[0m)        │                   │            │                   │\n",
       "├─────────────────────┼───────────────────┼────────────┼───────────────────┤\n",
       "│ dense (\u001b[38;5;33mDense\u001b[0m)       │ (\u001b[38;5;45mNone\u001b[0m, \u001b[38;5;34m64\u001b[0m)        │        \u001b[38;5;34m704\u001b[0m │ input_layer[\u001b[38;5;34m0\u001b[0m][\u001b[38;5;34m0\u001b[0m] │\n",
       "├─────────────────────┼───────────────────┼────────────┼───────────────────┤\n",
       "│ dense_1 (\u001b[38;5;33mDense\u001b[0m)     │ (\u001b[38;5;45mNone\u001b[0m, \u001b[38;5;34m32\u001b[0m)        │      \u001b[38;5;34m2,080\u001b[0m │ dense[\u001b[38;5;34m0\u001b[0m][\u001b[38;5;34m0\u001b[0m]       │\n",
       "├─────────────────────┼───────────────────┼────────────┼───────────────────┤\n",
       "│ dense_4 (\u001b[38;5;33mDense\u001b[0m)     │ (\u001b[38;5;45mNone\u001b[0m, \u001b[38;5;34m16\u001b[0m)        │        \u001b[38;5;34m528\u001b[0m │ dense_1[\u001b[38;5;34m0\u001b[0m][\u001b[38;5;34m0\u001b[0m]     │\n",
       "├─────────────────────┼───────────────────┼────────────┼───────────────────┤\n",
       "│ dense_5 (\u001b[38;5;33mDense\u001b[0m)     │ (\u001b[38;5;45mNone\u001b[0m, \u001b[38;5;34m16\u001b[0m)        │        \u001b[38;5;34m528\u001b[0m │ dense_1[\u001b[38;5;34m0\u001b[0m][\u001b[38;5;34m0\u001b[0m]     │\n",
       "├─────────────────────┼───────────────────┼────────────┼───────────────────┤\n",
       "│ Department_Output   │ (\u001b[38;5;45mNone\u001b[0m, \u001b[38;5;34m2\u001b[0m)         │         \u001b[38;5;34m34\u001b[0m │ dense_4[\u001b[38;5;34m0\u001b[0m][\u001b[38;5;34m0\u001b[0m]     │\n",
       "│ (\u001b[38;5;33mDense\u001b[0m)             │                   │            │                   │\n",
       "├─────────────────────┼───────────────────┼────────────┼───────────────────┤\n",
       "│ Attrition_Output    │ (\u001b[38;5;45mNone\u001b[0m, \u001b[38;5;34m1\u001b[0m)         │         \u001b[38;5;34m17\u001b[0m │ dense_5[\u001b[38;5;34m0\u001b[0m][\u001b[38;5;34m0\u001b[0m]     │\n",
       "│ (\u001b[38;5;33mDense\u001b[0m)             │                   │            │                   │\n",
       "└─────────────────────┴───────────────────┴────────────┴───────────────────┘\n"
      ]
     },
     "metadata": {},
     "output_type": "display_data"
    },
    {
     "data": {
      "text/html": [
       "<pre style=\"white-space:pre;overflow-x:auto;line-height:normal;font-family:Menlo,'DejaVu Sans Mono',consolas,'Courier New',monospace\"><span style=\"font-weight: bold\"> Total params: </span><span style=\"color: #00af00; text-decoration-color: #00af00\">3,891</span> (15.20 KB)\n",
       "</pre>\n"
      ],
      "text/plain": [
       "\u001b[1m Total params: \u001b[0m\u001b[38;5;34m3,891\u001b[0m (15.20 KB)\n"
      ]
     },
     "metadata": {},
     "output_type": "display_data"
    },
    {
     "data": {
      "text/html": [
       "<pre style=\"white-space:pre;overflow-x:auto;line-height:normal;font-family:Menlo,'DejaVu Sans Mono',consolas,'Courier New',monospace\"><span style=\"font-weight: bold\"> Trainable params: </span><span style=\"color: #00af00; text-decoration-color: #00af00\">3,891</span> (15.20 KB)\n",
       "</pre>\n"
      ],
      "text/plain": [
       "\u001b[1m Trainable params: \u001b[0m\u001b[38;5;34m3,891\u001b[0m (15.20 KB)\n"
      ]
     },
     "metadata": {},
     "output_type": "display_data"
    },
    {
     "data": {
      "text/html": [
       "<pre style=\"white-space:pre;overflow-x:auto;line-height:normal;font-family:Menlo,'DejaVu Sans Mono',consolas,'Courier New',monospace\"><span style=\"font-weight: bold\"> Non-trainable params: </span><span style=\"color: #00af00; text-decoration-color: #00af00\">0</span> (0.00 B)\n",
       "</pre>\n"
      ],
      "text/plain": [
       "\u001b[1m Non-trainable params: \u001b[0m\u001b[38;5;34m0\u001b[0m (0.00 B)\n"
      ]
     },
     "metadata": {},
     "output_type": "display_data"
    }
   ],
   "source": [
    "# Create the model\n",
    "model = Model(inputs=input_layer, outputs=[department_output, attrition_output])\n",
    "\n",
    "\n",
    "# Compile the model\n",
    "model.compile(\n",
    "    optimizer=Adam(),\n",
    "    loss={\n",
    "        \"Department_Output\": \"categorical_crossentropy\",  # Multi-class classification\n",
    "        \"Attrition_Output\": \"binary_crossentropy\"  # Binary classification\n",
    "    },\n",
    "    metrics={\n",
    "        \"Department_Output\": [\"accuracy\"],\n",
    "        \"Attrition_Output\": [\"accuracy\"]\n",
    "    }\n",
    ")\n",
    "\n",
    "# Summarize the model\n",
    "model.summary()\n"
   ]
  },
  {
   "cell_type": "code",
   "execution_count": 25,
   "metadata": {},
   "outputs": [
    {
     "name": "stdout",
     "output_type": "stream",
     "text": [
      "X_train_scaled shape: (1176, 10)\n",
      "X_test_scaled shape: (294, 10)\n",
      "y_train shape: (1176, 3)\n",
      "y_test shape: (294, 3)\n",
      "Columns in y_train: Index(['Department_Research & Development', 'Department_Sales',\n",
      "       'Attrition_Yes'],\n",
      "      dtype='object')\n",
      "Using Attrition Column: Attrition_Yes\n",
      "y_train is null?: 0\n",
      "y_test is null?: 0\n",
      "y_train_department shape: (1176, 2)\n",
      "y_test_department shape: (294, 2)\n",
      "y_train_attrition unique values: [0. 1.]\n",
      "y_test_attrition unique values: [0. 1.]\n"
     ]
    }
   ],
   "source": [
    "# Check if training inputs and outputs are empty\n",
    "print(\"X_train_scaled shape:\", X_train_scaled.shape)\n",
    "print(\"X_test_scaled shape:\", X_test_scaled.shape)\n",
    "print(\"y_train shape:\", y_train.shape)\n",
    "print(\"y_test shape:\", y_test.shape)\n",
    "\n",
    "# Check if 'Attrition' is present in y_train\n",
    "print(\"Columns in y_train:\", y_train.columns)\n",
    "attrition_col = [col for col in y_train.columns if 'Attrition' in col]\n",
    "\n",
    "if not attrition_col:\n",
    "    raise ValueError(\"Error: 'Attrition' column is missing from y_train!\")\n",
    "\n",
    "print(\"Using Attrition Column:\", attrition_col[0])\n",
    "\n",
    "# Check if training labels contain NaN values\n",
    "print(\"y_train is null?:\", y_train.isnull().sum().sum())\n",
    "print(\"y_test is null?:\", y_test.isnull().sum().sum())\n",
    "\n",
    "# Ensure y_train_department is not empty\n",
    "y_train_department = y_train.filter(like=\"Department_\")\n",
    "y_test_department = y_test.filter(like=\"Department_\")\n",
    "\n",
    "print(\"y_train_department shape:\", y_train_department.shape)\n",
    "print(\"y_test_department shape:\", y_test_department.shape)\n",
    "\n",
    "# Ensure y_train_attrition is properly assigned\n",
    "y_train_attrition = y_train[attrition_col[0]]\n",
    "y_test_attrition = y_test[attrition_col[0]]\n",
    "\n",
    "print(\"y_train_attrition unique values:\", y_train_attrition.unique())\n",
    "print(\"y_test_attrition unique values:\", y_test_attrition.unique())\n",
    "\n",
    "\n"
   ]
  },
  {
   "cell_type": "code",
   "execution_count": 26,
   "metadata": {},
   "outputs": [
    {
     "name": "stdout",
     "output_type": "stream",
     "text": [
      "Department Training Data Shape: (1176, 2)\n",
      " Attrition Training Data Shape: (1176, 1)\n"
     ]
    }
   ],
   "source": [
    "import numpy as np\n",
    "\n",
    "# Ensure department labels are NumPy arrays\n",
    "y_train_department = np.array(y_train_department)\n",
    "y_test_department = np.array(y_test_department)\n",
    "\n",
    "# Ensure attrition labels are NumPy arrays and reshaped correctly\n",
    "y_train_attrition = np.array(y_train_attrition).reshape(-1, 1)\n",
    "y_test_attrition = np.array(y_test_attrition).reshape(-1, 1)\n",
    "\n",
    "# Print shapes again to confirm before training\n",
    "print(\"Department Training Data Shape:\", y_train_department.shape)\n",
    "print(\" Attrition Training Data Shape:\", y_train_attrition.shape)\n",
    "\n"
   ]
  },
  {
   "cell_type": "code",
   "execution_count": 27,
   "metadata": {},
   "outputs": [
    {
     "name": "stdout",
     "output_type": "stream",
     "text": [
      " Model recompiled with accuracy metrics.\n"
     ]
    }
   ],
   "source": [
    "# Recompile the model with explicit accuracy tracking\n",
    "model.compile(\n",
    "    optimizer=\"adam\",\n",
    "    loss={\n",
    "        \"Department_Output\": \"categorical_crossentropy\",\n",
    "        \"Attrition_Output\": \"binary_crossentropy\",\n",
    "    },\n",
    "    metrics={\n",
    "        \"Department_Output\": [\"accuracy\"],  # Explicit accuracy for Department\n",
    "        \"Attrition_Output\": [\"accuracy\"],   # Explicit accuracy for Attrition\n",
    "    }\n",
    ")\n",
    "\n",
    "print(\" Model recompiled with accuracy metrics.\")\n",
    "\n"
   ]
  },
  {
   "cell_type": "code",
   "execution_count": 28,
   "metadata": {
    "colab": {
     "base_uri": "https://localhost:8080/"
    },
    "executionInfo": {
     "elapsed": 31740,
     "status": "ok",
     "timestamp": 1730699259517,
     "user": {
      "displayName": "Alexander Booth",
      "userId": "02269714993535573104"
     },
     "user_tz": 360
    },
    "id": "c8oGy0dpGc3U",
    "outputId": "f48a5292-426f-4715-ea6e-381a8e9d5542"
   },
   "outputs": [
    {
     "name": "stdout",
     "output_type": "stream",
     "text": [
      "Epoch 1/50\n",
      "\u001b[1m37/37\u001b[0m \u001b[32m━━━━━━━━━━━━━━━━━━━━\u001b[0m\u001b[37m\u001b[0m \u001b[1m1s\u001b[0m 4ms/step - Attrition_Output_accuracy: 0.8090 - Attrition_Output_loss: 0.5658 - Department_Output_accuracy: 0.6986 - Department_Output_loss: 0.6008 - loss: 1.1667 - val_Attrition_Output_accuracy: 0.8673 - val_Attrition_Output_loss: 0.3818 - val_Department_Output_accuracy: 0.7245 - val_Department_Output_loss: 0.5762 - val_loss: 0.9680\n",
      "Epoch 2/50\n",
      "\u001b[1m37/37\u001b[0m \u001b[32m━━━━━━━━━━━━━━━━━━━━\u001b[0m\u001b[37m\u001b[0m \u001b[1m0s\u001b[0m 1ms/step - Attrition_Output_accuracy: 0.8234 - Attrition_Output_loss: 0.4687 - Department_Output_accuracy: 0.6953 - Department_Output_loss: 0.5907 - loss: 1.0594 - val_Attrition_Output_accuracy: 0.8673 - val_Attrition_Output_loss: 0.3521 - val_Department_Output_accuracy: 0.7143 - val_Department_Output_loss: 0.5695 - val_loss: 0.9346\n",
      "Epoch 3/50\n",
      "\u001b[1m37/37\u001b[0m \u001b[32m━━━━━━━━━━━━━━━━━━━━\u001b[0m\u001b[37m\u001b[0m \u001b[1m0s\u001b[0m 1ms/step - Attrition_Output_accuracy: 0.8308 - Attrition_Output_loss: 0.4389 - Department_Output_accuracy: 0.6806 - Department_Output_loss: 0.5892 - loss: 1.0282 - val_Attrition_Output_accuracy: 0.8673 - val_Attrition_Output_loss: 0.3356 - val_Department_Output_accuracy: 0.7143 - val_Department_Output_loss: 0.5599 - val_loss: 0.9078\n",
      "Epoch 4/50\n",
      "\u001b[1m37/37\u001b[0m \u001b[32m━━━━━━━━━━━━━━━━━━━━\u001b[0m\u001b[37m\u001b[0m \u001b[1m0s\u001b[0m 1ms/step - Attrition_Output_accuracy: 0.8261 - Attrition_Output_loss: 0.4339 - Department_Output_accuracy: 0.6937 - Department_Output_loss: 0.5748 - loss: 1.0088 - val_Attrition_Output_accuracy: 0.8673 - val_Attrition_Output_loss: 0.3313 - val_Department_Output_accuracy: 0.7075 - val_Department_Output_loss: 0.5632 - val_loss: 0.9092\n",
      "Epoch 5/50\n",
      "\u001b[1m37/37\u001b[0m \u001b[32m━━━━━━━━━━━━━━━━━━━━\u001b[0m\u001b[37m\u001b[0m \u001b[1m0s\u001b[0m 1ms/step - Attrition_Output_accuracy: 0.8429 - Attrition_Output_loss: 0.3961 - Department_Output_accuracy: 0.7197 - Department_Output_loss: 0.5566 - loss: 0.9526 - val_Attrition_Output_accuracy: 0.8673 - val_Attrition_Output_loss: 0.3324 - val_Department_Output_accuracy: 0.7109 - val_Department_Output_loss: 0.5603 - val_loss: 0.9102\n",
      "Epoch 6/50\n",
      "\u001b[1m37/37\u001b[0m \u001b[32m━━━━━━━━━━━━━━━━━━━━\u001b[0m\u001b[37m\u001b[0m \u001b[1m0s\u001b[0m 1ms/step - Attrition_Output_accuracy: 0.8335 - Attrition_Output_loss: 0.4146 - Department_Output_accuracy: 0.6862 - Department_Output_loss: 0.5584 - loss: 0.9731 - val_Attrition_Output_accuracy: 0.8673 - val_Attrition_Output_loss: 0.3348 - val_Department_Output_accuracy: 0.7007 - val_Department_Output_loss: 0.5401 - val_loss: 0.8916\n",
      "Epoch 7/50\n",
      "\u001b[1m37/37\u001b[0m \u001b[32m━━━━━━━━━━━━━━━━━━━━\u001b[0m\u001b[37m\u001b[0m \u001b[1m0s\u001b[0m 1ms/step - Attrition_Output_accuracy: 0.8364 - Attrition_Output_loss: 0.4019 - Department_Output_accuracy: 0.7043 - Department_Output_loss: 0.5696 - loss: 0.9715 - val_Attrition_Output_accuracy: 0.8810 - val_Attrition_Output_loss: 0.3422 - val_Department_Output_accuracy: 0.7041 - val_Department_Output_loss: 0.5691 - val_loss: 0.9281\n",
      "Epoch 8/50\n",
      "\u001b[1m37/37\u001b[0m \u001b[32m━━━━━━━━━━━━━━━━━━━━\u001b[0m\u001b[37m\u001b[0m \u001b[1m0s\u001b[0m 1ms/step - Attrition_Output_accuracy: 0.8191 - Attrition_Output_loss: 0.4311 - Department_Output_accuracy: 0.6692 - Department_Output_loss: 0.5878 - loss: 1.0189 - val_Attrition_Output_accuracy: 0.8707 - val_Attrition_Output_loss: 0.3311 - val_Department_Output_accuracy: 0.6973 - val_Department_Output_loss: 0.5464 - val_loss: 0.8964\n",
      "Epoch 9/50\n",
      "\u001b[1m37/37\u001b[0m \u001b[32m━━━━━━━━━━━━━━━━━━━━\u001b[0m\u001b[37m\u001b[0m \u001b[1m0s\u001b[0m 1ms/step - Attrition_Output_accuracy: 0.8385 - Attrition_Output_loss: 0.4132 - Department_Output_accuracy: 0.7039 - Department_Output_loss: 0.5635 - loss: 0.9766 - val_Attrition_Output_accuracy: 0.8776 - val_Attrition_Output_loss: 0.3203 - val_Department_Output_accuracy: 0.6463 - val_Department_Output_loss: 0.5856 - val_loss: 0.9313\n",
      "Epoch 10/50\n",
      "\u001b[1m37/37\u001b[0m \u001b[32m━━━━━━━━━━━━━━━━━━━━\u001b[0m\u001b[37m\u001b[0m \u001b[1m0s\u001b[0m 1ms/step - Attrition_Output_accuracy: 0.7924 - Attrition_Output_loss: 0.4710 - Department_Output_accuracy: 0.6866 - Department_Output_loss: 0.5734 - loss: 1.0445 - val_Attrition_Output_accuracy: 0.8776 - val_Attrition_Output_loss: 0.3191 - val_Department_Output_accuracy: 0.7245 - val_Department_Output_loss: 0.5543 - val_loss: 0.9010\n",
      "Epoch 11/50\n",
      "\u001b[1m37/37\u001b[0m \u001b[32m━━━━━━━━━━━━━━━━━━━━\u001b[0m\u001b[37m\u001b[0m \u001b[1m0s\u001b[0m 1ms/step - Attrition_Output_accuracy: 0.8265 - Attrition_Output_loss: 0.4188 - Department_Output_accuracy: 0.6644 - Department_Output_loss: 0.6264 - loss: 1.0452 - val_Attrition_Output_accuracy: 0.8776 - val_Attrition_Output_loss: 0.3238 - val_Department_Output_accuracy: 0.4252 - val_Department_Output_loss: 1.0353 - val_loss: 1.3833\n",
      "Epoch 12/50\n",
      "\u001b[1m37/37\u001b[0m \u001b[32m━━━━━━━━━━━━━━━━━━━━\u001b[0m\u001b[37m\u001b[0m \u001b[1m0s\u001b[0m 1ms/step - Attrition_Output_accuracy: 0.8330 - Attrition_Output_loss: 0.4027 - Department_Output_accuracy: 0.6275 - Department_Output_loss: 0.6927 - loss: 1.0954 - val_Attrition_Output_accuracy: 0.8673 - val_Attrition_Output_loss: 0.3577 - val_Department_Output_accuracy: 0.6293 - val_Department_Output_loss: 0.6091 - val_loss: 0.9993\n",
      "Epoch 13/50\n",
      "\u001b[1m37/37\u001b[0m \u001b[32m━━━━━━━━━━━━━━━━━━━━\u001b[0m\u001b[37m\u001b[0m \u001b[1m0s\u001b[0m 1ms/step - Attrition_Output_accuracy: 0.8001 - Attrition_Output_loss: 0.4984 - Department_Output_accuracy: 0.6310 - Department_Output_loss: 0.7274 - loss: 1.2259 - val_Attrition_Output_accuracy: 0.8673 - val_Attrition_Output_loss: 0.3538 - val_Department_Output_accuracy: 0.7075 - val_Department_Output_loss: 0.8370 - val_loss: 1.2166\n",
      "Epoch 14/50\n",
      "\u001b[1m37/37\u001b[0m \u001b[32m━━━━━━━━━━━━━━━━━━━━\u001b[0m\u001b[37m\u001b[0m \u001b[1m0s\u001b[0m 1ms/step - Attrition_Output_accuracy: 0.8397 - Attrition_Output_loss: 0.4512 - Department_Output_accuracy: 0.6184 - Department_Output_loss: 0.8131 - loss: 1.2643 - val_Attrition_Output_accuracy: 0.8878 - val_Attrition_Output_loss: 0.3690 - val_Department_Output_accuracy: 0.7109 - val_Department_Output_loss: 0.6255 - val_loss: 1.0158\n",
      "Epoch 15/50\n",
      "\u001b[1m37/37\u001b[0m \u001b[32m━━━━━━━━━━━━━━━━━━━━\u001b[0m\u001b[37m\u001b[0m \u001b[1m0s\u001b[0m 1ms/step - Attrition_Output_accuracy: 0.8362 - Attrition_Output_loss: 0.4317 - Department_Output_accuracy: 0.6652 - Department_Output_loss: 0.6650 - loss: 1.0967 - val_Attrition_Output_accuracy: 0.8741 - val_Attrition_Output_loss: 0.3464 - val_Department_Output_accuracy: 0.7075 - val_Department_Output_loss: 0.7885 - val_loss: 1.1627\n",
      "Epoch 16/50\n",
      "\u001b[1m37/37\u001b[0m \u001b[32m━━━━━━━━━━━━━━━━━━━━\u001b[0m\u001b[37m\u001b[0m \u001b[1m0s\u001b[0m 1ms/step - Attrition_Output_accuracy: 0.8061 - Attrition_Output_loss: 0.4859 - Department_Output_accuracy: 0.5993 - Department_Output_loss: 1.0962 - loss: 1.5824 - val_Attrition_Output_accuracy: 0.8707 - val_Attrition_Output_loss: 0.3642 - val_Department_Output_accuracy: 0.2891 - val_Department_Output_loss: 2.2001 - val_loss: 2.5765\n",
      "Epoch 17/50\n",
      "\u001b[1m37/37\u001b[0m \u001b[32m━━━━━━━━━━━━━━━━━━━━\u001b[0m\u001b[37m\u001b[0m \u001b[1m0s\u001b[0m 1ms/step - Attrition_Output_accuracy: 0.8285 - Attrition_Output_loss: 0.4512 - Department_Output_accuracy: 0.5859 - Department_Output_loss: 1.0288 - loss: 1.4794 - val_Attrition_Output_accuracy: 0.8741 - val_Attrition_Output_loss: 0.3239 - val_Department_Output_accuracy: 0.3129 - val_Department_Output_loss: 1.4190 - val_loss: 1.7656\n",
      "Epoch 18/50\n",
      "\u001b[1m37/37\u001b[0m \u001b[32m━━━━━━━━━━━━━━━━━━━━\u001b[0m\u001b[37m\u001b[0m \u001b[1m0s\u001b[0m 1ms/step - Attrition_Output_accuracy: 0.8154 - Attrition_Output_loss: 0.4689 - Department_Output_accuracy: 0.6115 - Department_Output_loss: 1.2777 - loss: 1.7468 - val_Attrition_Output_accuracy: 0.8741 - val_Attrition_Output_loss: 0.3257 - val_Department_Output_accuracy: 0.4558 - val_Department_Output_loss: 0.7825 - val_loss: 1.1492\n",
      "Epoch 19/50\n",
      "\u001b[1m37/37\u001b[0m \u001b[32m━━━━━━━━━━━━━━━━━━━━\u001b[0m\u001b[37m\u001b[0m \u001b[1m0s\u001b[0m 1ms/step - Attrition_Output_accuracy: 0.8334 - Attrition_Output_loss: 0.4343 - Department_Output_accuracy: 0.5772 - Department_Output_loss: 1.3688 - loss: 1.8028 - val_Attrition_Output_accuracy: 0.8741 - val_Attrition_Output_loss: 0.3302 - val_Department_Output_accuracy: 0.7109 - val_Department_Output_loss: 2.7973 - val_loss: 3.1651\n",
      "Epoch 20/50\n",
      "\u001b[1m37/37\u001b[0m \u001b[32m━━━━━━━━━━━━━━━━━━━━\u001b[0m\u001b[37m\u001b[0m \u001b[1m0s\u001b[0m 1ms/step - Attrition_Output_accuracy: 0.8168 - Attrition_Output_loss: 0.4514 - Department_Output_accuracy: 0.5911 - Department_Output_loss: 2.3469 - loss: 2.7986 - val_Attrition_Output_accuracy: 0.8844 - val_Attrition_Output_loss: 0.3388 - val_Department_Output_accuracy: 0.2959 - val_Department_Output_loss: 2.0337 - val_loss: 2.3714\n",
      "Epoch 21/50\n",
      "\u001b[1m37/37\u001b[0m \u001b[32m━━━━━━━━━━━━━━━━━━━━\u001b[0m\u001b[37m\u001b[0m \u001b[1m0s\u001b[0m 1ms/step - Attrition_Output_accuracy: 0.7838 - Attrition_Output_loss: 0.5178 - Department_Output_accuracy: 0.5515 - Department_Output_loss: 1.8526 - loss: 2.3697 - val_Attrition_Output_accuracy: 0.6327 - val_Attrition_Output_loss: 0.6271 - val_Department_Output_accuracy: 0.7109 - val_Department_Output_loss: 2.3290 - val_loss: 2.9825\n",
      "Epoch 22/50\n",
      "\u001b[1m37/37\u001b[0m \u001b[32m━━━━━━━━━━━━━━━━━━━━\u001b[0m\u001b[37m\u001b[0m \u001b[1m0s\u001b[0m 1ms/step - Attrition_Output_accuracy: 0.7987 - Attrition_Output_loss: 0.5039 - Department_Output_accuracy: 0.5835 - Department_Output_loss: 5.0116 - loss: 5.5160 - val_Attrition_Output_accuracy: 0.6701 - val_Attrition_Output_loss: 0.5806 - val_Department_Output_accuracy: 0.5884 - val_Department_Output_loss: 0.6917 - val_loss: 1.3140\n",
      "Epoch 23/50\n",
      "\u001b[1m37/37\u001b[0m \u001b[32m━━━━━━━━━━━━━━━━━━━━\u001b[0m\u001b[37m\u001b[0m \u001b[1m0s\u001b[0m 1ms/step - Attrition_Output_accuracy: 0.7789 - Attrition_Output_loss: 0.5804 - Department_Output_accuracy: 0.5258 - Department_Output_loss: 8.4211 - loss: 9.0043 - val_Attrition_Output_accuracy: 0.8707 - val_Attrition_Output_loss: 0.3708 - val_Department_Output_accuracy: 0.2925 - val_Department_Output_loss: 3.7267 - val_loss: 4.0701\n",
      "Epoch 24/50\n",
      "\u001b[1m37/37\u001b[0m \u001b[32m━━━━━━━━━━━━━━━━━━━━\u001b[0m\u001b[37m\u001b[0m \u001b[1m0s\u001b[0m 1ms/step - Attrition_Output_accuracy: 0.8177 - Attrition_Output_loss: 0.5030 - Department_Output_accuracy: 0.5744 - Department_Output_loss: 1.5649 - loss: 2.0674 - val_Attrition_Output_accuracy: 0.8605 - val_Attrition_Output_loss: 0.3512 - val_Department_Output_accuracy: 0.2959 - val_Department_Output_loss: 2.5958 - val_loss: 2.9337\n",
      "Epoch 25/50\n",
      "\u001b[1m37/37\u001b[0m \u001b[32m━━━━━━━━━━━━━━━━━━━━\u001b[0m\u001b[37m\u001b[0m \u001b[1m0s\u001b[0m 1ms/step - Attrition_Output_accuracy: 0.8277 - Attrition_Output_loss: 0.4483 - Department_Output_accuracy: 0.5446 - Department_Output_loss: 2.7456 - loss: 3.1951 - val_Attrition_Output_accuracy: 0.8707 - val_Attrition_Output_loss: 0.3704 - val_Department_Output_accuracy: 0.2891 - val_Department_Output_loss: 21.8930 - val_loss: 21.9373\n",
      "Epoch 26/50\n",
      "\u001b[1m37/37\u001b[0m \u001b[32m━━━━━━━━━━━━━━━━━━━━\u001b[0m\u001b[37m\u001b[0m \u001b[1m0s\u001b[0m 1ms/step - Attrition_Output_accuracy: 0.7734 - Attrition_Output_loss: 0.6158 - Department_Output_accuracy: 0.5395 - Department_Output_loss: 18.9950 - loss: 19.6143 - val_Attrition_Output_accuracy: 0.8435 - val_Attrition_Output_loss: 0.4050 - val_Department_Output_accuracy: 0.2891 - val_Department_Output_loss: 27.9314 - val_loss: 27.8898\n",
      "Epoch 27/50\n",
      "\u001b[1m37/37\u001b[0m \u001b[32m━━━━━━━━━━━━━━━━━━━━\u001b[0m\u001b[37m\u001b[0m \u001b[1m0s\u001b[0m 1ms/step - Attrition_Output_accuracy: 0.7747 - Attrition_Output_loss: 0.6419 - Department_Output_accuracy: 0.5469 - Department_Output_loss: 17.5190 - loss: 18.1648 - val_Attrition_Output_accuracy: 0.8707 - val_Attrition_Output_loss: 0.4194 - val_Department_Output_accuracy: 0.2891 - val_Department_Output_loss: 18.7236 - val_loss: 18.8647\n",
      "Epoch 28/50\n",
      "\u001b[1m37/37\u001b[0m \u001b[32m━━━━━━━━━━━━━━━━━━━━\u001b[0m\u001b[37m\u001b[0m \u001b[1m0s\u001b[0m 1ms/step - Attrition_Output_accuracy: 0.7887 - Attrition_Output_loss: 0.5915 - Department_Output_accuracy: 0.5443 - Department_Output_loss: 16.7001 - loss: 17.2942 - val_Attrition_Output_accuracy: 0.8707 - val_Attrition_Output_loss: 0.3282 - val_Department_Output_accuracy: 0.7109 - val_Department_Output_loss: 4.4740 - val_loss: 4.8469\n",
      "Epoch 29/50\n",
      "\u001b[1m37/37\u001b[0m \u001b[32m━━━━━━━━━━━━━━━━━━━━\u001b[0m\u001b[37m\u001b[0m \u001b[1m0s\u001b[0m 1ms/step - Attrition_Output_accuracy: 0.8085 - Attrition_Output_loss: 0.5125 - Department_Output_accuracy: 0.5924 - Department_Output_loss: 7.5148 - loss: 8.0270 - val_Attrition_Output_accuracy: 0.8707 - val_Attrition_Output_loss: 0.5537 - val_Department_Output_accuracy: 0.7109 - val_Department_Output_loss: 9.8060 - val_loss: 10.4299\n",
      "Epoch 30/50\n",
      "\u001b[1m37/37\u001b[0m \u001b[32m━━━━━━━━━━━━━━━━━━━━\u001b[0m\u001b[37m\u001b[0m \u001b[1m0s\u001b[0m 1ms/step - Attrition_Output_accuracy: 0.8247 - Attrition_Output_loss: 0.5168 - Department_Output_accuracy: 0.6166 - Department_Output_loss: 10.0102 - loss: 10.5202 - val_Attrition_Output_accuracy: 0.8776 - val_Attrition_Output_loss: 0.3487 - val_Department_Output_accuracy: 0.7109 - val_Department_Output_loss: 24.9929 - val_loss: 25.4038\n",
      "Epoch 31/50\n",
      "\u001b[1m37/37\u001b[0m \u001b[32m━━━━━━━━━━━━━━━━━━━━\u001b[0m\u001b[37m\u001b[0m \u001b[1m0s\u001b[0m 1ms/step - Attrition_Output_accuracy: 0.8351 - Attrition_Output_loss: 0.4450 - Department_Output_accuracy: 0.6173 - Department_Output_loss: 12.3762 - loss: 12.8225 - val_Attrition_Output_accuracy: 0.8844 - val_Attrition_Output_loss: 0.3243 - val_Department_Output_accuracy: 0.7109 - val_Department_Output_loss: 2.7744 - val_loss: 3.1311\n",
      "Epoch 32/50\n",
      "\u001b[1m37/37\u001b[0m \u001b[32m━━━━━━━━━━━━━━━━━━━━\u001b[0m\u001b[37m\u001b[0m \u001b[1m0s\u001b[0m 1ms/step - Attrition_Output_accuracy: 0.8322 - Attrition_Output_loss: 0.4212 - Department_Output_accuracy: 0.5558 - Department_Output_loss: 9.1977 - loss: 9.6211 - val_Attrition_Output_accuracy: 0.8707 - val_Attrition_Output_loss: 0.3748 - val_Department_Output_accuracy: 0.2891 - val_Department_Output_loss: 10.5197 - val_loss: 10.7496\n",
      "Epoch 33/50\n",
      "\u001b[1m37/37\u001b[0m \u001b[32m━━━━━━━━━━━━━━━━━━━━\u001b[0m\u001b[37m\u001b[0m \u001b[1m0s\u001b[0m 1ms/step - Attrition_Output_accuracy: 0.8170 - Attrition_Output_loss: 0.5122 - Department_Output_accuracy: 0.5541 - Department_Output_loss: 7.8325 - loss: 8.3470 - val_Attrition_Output_accuracy: 0.8741 - val_Attrition_Output_loss: 0.3569 - val_Department_Output_accuracy: 0.7109 - val_Department_Output_loss: 6.4605 - val_loss: 6.8701\n",
      "Epoch 34/50\n",
      "\u001b[1m37/37\u001b[0m \u001b[32m━━━━━━━━━━━━━━━━━━━━\u001b[0m\u001b[37m\u001b[0m \u001b[1m0s\u001b[0m 1ms/step - Attrition_Output_accuracy: 0.7965 - Attrition_Output_loss: 0.5381 - Department_Output_accuracy: 0.5859 - Department_Output_loss: 12.7081 - loss: 13.2473 - val_Attrition_Output_accuracy: 0.7007 - val_Attrition_Output_loss: 0.5433 - val_Department_Output_accuracy: 0.7109 - val_Department_Output_loss: 3.8462 - val_loss: 4.4244\n",
      "Epoch 35/50\n",
      "\u001b[1m37/37\u001b[0m \u001b[32m━━━━━━━━━━━━━━━━━━━━\u001b[0m\u001b[37m\u001b[0m \u001b[1m0s\u001b[0m 1ms/step - Attrition_Output_accuracy: 0.7775 - Attrition_Output_loss: 0.5448 - Department_Output_accuracy: 0.5805 - Department_Output_loss: 23.9215 - loss: 24.4690 - val_Attrition_Output_accuracy: 0.8707 - val_Attrition_Output_loss: 0.6824 - val_Department_Output_accuracy: 0.7109 - val_Department_Output_loss: 10.6887 - val_loss: 11.4656\n",
      "Epoch 36/50\n",
      "\u001b[1m37/37\u001b[0m \u001b[32m━━━━━━━━━━━━━━━━━━━━\u001b[0m\u001b[37m\u001b[0m \u001b[1m0s\u001b[0m 1ms/step - Attrition_Output_accuracy: 0.7560 - Attrition_Output_loss: 1.1430 - Department_Output_accuracy: 0.5760 - Department_Output_loss: 18.0475 - loss: 19.1814 - val_Attrition_Output_accuracy: 0.8707 - val_Attrition_Output_loss: 0.3863 - val_Department_Output_accuracy: 0.7109 - val_Department_Output_loss: 30.8532 - val_loss: 31.3766\n",
      "Epoch 37/50\n",
      "\u001b[1m37/37\u001b[0m \u001b[32m━━━━━━━━━━━━━━━━━━━━\u001b[0m\u001b[37m\u001b[0m \u001b[1m0s\u001b[0m 1ms/step - Attrition_Output_accuracy: 0.7687 - Attrition_Output_loss: 0.7140 - Department_Output_accuracy: 0.5632 - Department_Output_loss: 32.6103 - loss: 33.3278 - val_Attrition_Output_accuracy: 0.8707 - val_Attrition_Output_loss: 0.4770 - val_Department_Output_accuracy: 0.7109 - val_Department_Output_loss: 21.6681 - val_loss: 22.2702\n",
      "Epoch 38/50\n",
      "\u001b[1m37/37\u001b[0m \u001b[32m━━━━━━━━━━━━━━━━━━━━\u001b[0m\u001b[37m\u001b[0m \u001b[1m0s\u001b[0m 1ms/step - Attrition_Output_accuracy: 0.7753 - Attrition_Output_loss: 0.6129 - Department_Output_accuracy: 0.6217 - Department_Output_loss: 38.8057 - loss: 39.4245 - val_Attrition_Output_accuracy: 0.8707 - val_Attrition_Output_loss: 0.5485 - val_Department_Output_accuracy: 0.7109 - val_Department_Output_loss: 25.5967 - val_loss: 26.2877\n",
      "Epoch 39/50\n",
      "\u001b[1m37/37\u001b[0m \u001b[32m━━━━━━━━━━━━━━━━━━━━\u001b[0m\u001b[37m\u001b[0m \u001b[1m0s\u001b[0m 1ms/step - Attrition_Output_accuracy: 0.8009 - Attrition_Output_loss: 0.5536 - Department_Output_accuracy: 0.5763 - Department_Output_loss: 35.5268 - loss: 36.0761 - val_Attrition_Output_accuracy: 0.8912 - val_Attrition_Output_loss: 0.3291 - val_Department_Output_accuracy: 0.7109 - val_Department_Output_loss: 10.2790 - val_loss: 10.6708\n",
      "Epoch 40/50\n",
      "\u001b[1m37/37\u001b[0m \u001b[32m━━━━━━━━━━━━━━━━━━━━\u001b[0m\u001b[37m\u001b[0m \u001b[1m0s\u001b[0m 1ms/step - Attrition_Output_accuracy: 0.8497 - Attrition_Output_loss: 0.4532 - Department_Output_accuracy: 0.5567 - Department_Output_loss: 30.4667 - loss: 30.9201 - val_Attrition_Output_accuracy: 0.8707 - val_Attrition_Output_loss: 0.3260 - val_Department_Output_accuracy: 0.7109 - val_Department_Output_loss: 22.8224 - val_loss: 23.2572\n",
      "Epoch 41/50\n",
      "\u001b[1m37/37\u001b[0m \u001b[32m━━━━━━━━━━━━━━━━━━━━\u001b[0m\u001b[37m\u001b[0m \u001b[1m0s\u001b[0m 1ms/step - Attrition_Output_accuracy: 0.8259 - Attrition_Output_loss: 0.4756 - Department_Output_accuracy: 0.6349 - Department_Output_loss: 56.1646 - loss: 56.6492 - val_Attrition_Output_accuracy: 0.8673 - val_Attrition_Output_loss: 0.3457 - val_Department_Output_accuracy: 0.7109 - val_Department_Output_loss: 36.4076 - val_loss: 36.9307\n",
      "Epoch 42/50\n",
      "\u001b[1m37/37\u001b[0m \u001b[32m━━━━━━━━━━━━━━━━━━━━\u001b[0m\u001b[37m\u001b[0m \u001b[1m0s\u001b[0m 1ms/step - Attrition_Output_accuracy: 0.7966 - Attrition_Output_loss: 0.6008 - Department_Output_accuracy: 0.5949 - Department_Output_loss: 25.8995 - loss: 26.4884 - val_Attrition_Output_accuracy: 0.8741 - val_Attrition_Output_loss: 0.3665 - val_Department_Output_accuracy: 0.7109 - val_Department_Output_loss: 33.9828 - val_loss: 34.5178\n",
      "Epoch 43/50\n",
      "\u001b[1m37/37\u001b[0m \u001b[32m━━━━━━━━━━━━━━━━━━━━\u001b[0m\u001b[37m\u001b[0m \u001b[1m0s\u001b[0m 1ms/step - Attrition_Output_accuracy: 0.7922 - Attrition_Output_loss: 0.6081 - Department_Output_accuracy: 0.5853 - Department_Output_loss: 22.2337 - loss: 22.8459 - val_Attrition_Output_accuracy: 0.8707 - val_Attrition_Output_loss: 0.3255 - val_Department_Output_accuracy: 0.5714 - val_Department_Output_loss: 1.6118 - val_loss: 1.9847\n",
      "Epoch 44/50\n",
      "\u001b[1m37/37\u001b[0m \u001b[32m━━━━━━━━━━━━━━━━━━━━\u001b[0m\u001b[37m\u001b[0m \u001b[1m0s\u001b[0m 1ms/step - Attrition_Output_accuracy: 0.8034 - Attrition_Output_loss: 0.5513 - Department_Output_accuracy: 0.5909 - Department_Output_loss: 17.9989 - loss: 18.5481 - val_Attrition_Output_accuracy: 0.6701 - val_Attrition_Output_loss: 0.5948 - val_Department_Output_accuracy: 0.7109 - val_Department_Output_loss: 15.2386 - val_loss: 15.8960\n",
      "Epoch 45/50\n",
      "\u001b[1m37/37\u001b[0m \u001b[32m━━━━━━━━━━━━━━━━━━━━\u001b[0m\u001b[37m\u001b[0m \u001b[1m0s\u001b[0m 2ms/step - Attrition_Output_accuracy: 0.7580 - Attrition_Output_loss: 0.7431 - Department_Output_accuracy: 0.5852 - Department_Output_loss: 14.1888 - loss: 14.9363 - val_Attrition_Output_accuracy: 0.7891 - val_Attrition_Output_loss: 0.4546 - val_Department_Output_accuracy: 0.2891 - val_Department_Output_loss: 43.9232 - val_loss: 43.5848\n",
      "Epoch 46/50\n",
      "\u001b[1m37/37\u001b[0m \u001b[32m━━━━━━━━━━━━━━━━━━━━\u001b[0m\u001b[37m\u001b[0m \u001b[1m0s\u001b[0m 1ms/step - Attrition_Output_accuracy: 0.7898 - Attrition_Output_loss: 0.5475 - Department_Output_accuracy: 0.5013 - Department_Output_loss: 41.4390 - loss: 41.9876 - val_Attrition_Output_accuracy: 0.8776 - val_Attrition_Output_loss: 0.3372 - val_Department_Output_accuracy: 0.7109 - val_Department_Output_loss: 68.2115 - val_loss: 68.8872\n",
      "Epoch 47/50\n",
      "\u001b[1m37/37\u001b[0m \u001b[32m━━━━━━━━━━━━━━━━━━━━\u001b[0m\u001b[37m\u001b[0m \u001b[1m0s\u001b[0m 1ms/step - Attrition_Output_accuracy: 0.8308 - Attrition_Output_loss: 0.4465 - Department_Output_accuracy: 0.6038 - Department_Output_loss: 43.4419 - loss: 43.8946 - val_Attrition_Output_accuracy: 0.8741 - val_Attrition_Output_loss: 0.3762 - val_Department_Output_accuracy: 0.7109 - val_Department_Output_loss: 35.4749 - val_loss: 36.0182\n",
      "Epoch 48/50\n",
      "\u001b[1m37/37\u001b[0m \u001b[32m━━━━━━━━━━━━━━━━━━━━\u001b[0m\u001b[37m\u001b[0m \u001b[1m0s\u001b[0m 1ms/step - Attrition_Output_accuracy: 0.7868 - Attrition_Output_loss: 0.6588 - Department_Output_accuracy: 0.5865 - Department_Output_loss: 40.4224 - loss: 41.0901 - val_Attrition_Output_accuracy: 0.8707 - val_Attrition_Output_loss: 0.5728 - val_Department_Output_accuracy: 0.7109 - val_Department_Output_loss: 16.8856 - val_loss: 17.5620\n",
      "Epoch 49/50\n",
      "\u001b[1m37/37\u001b[0m \u001b[32m━━━━━━━━━━━━━━━━━━━━\u001b[0m\u001b[37m\u001b[0m \u001b[1m0s\u001b[0m 1ms/step - Attrition_Output_accuracy: 0.7551 - Attrition_Output_loss: 0.8686 - Department_Output_accuracy: 0.6170 - Department_Output_loss: 26.2380 - loss: 27.1165 - val_Attrition_Output_accuracy: 0.7551 - val_Attrition_Output_loss: 0.4769 - val_Department_Output_accuracy: 0.3027 - val_Department_Output_loss: 8.0693 - val_loss: 8.4337\n",
      "Epoch 50/50\n",
      "\u001b[1m37/37\u001b[0m \u001b[32m━━━━━━━━━━━━━━━━━━━━\u001b[0m\u001b[37m\u001b[0m \u001b[1m0s\u001b[0m 1ms/step - Attrition_Output_accuracy: 0.7962 - Attrition_Output_loss: 0.5734 - Department_Output_accuracy: 0.5702 - Department_Output_loss: 16.9017 - loss: 17.4772 - val_Attrition_Output_accuracy: 0.8707 - val_Attrition_Output_loss: 0.7303 - val_Department_Output_accuracy: 0.7109 - val_Department_Output_loss: 41.6856 - val_loss: 42.6548\n"
     ]
    }
   ],
   "source": [
    "# Train the model\n",
    "history = model.fit(\n",
    "    X_train_scaled, \n",
    "    {\n",
    "        \"Department_Output\": y_train_department,  # Multi-class classification\n",
    "        \"Attrition_Output\": y_train_attrition,    # Binary classification\n",
    "    },\n",
    "    epochs=50, \n",
    "    batch_size=32,\n",
    "    validation_data=(\n",
    "        X_test_scaled, \n",
    "        {\n",
    "            \"Department_Output\": y_test_department,\n",
    "            \"Attrition_Output\": y_test_attrition,\n",
    "        }\n",
    "    ),\n",
    "    verbose=1\n",
    ")\n"
   ]
  },
  {
   "cell_type": "code",
   "execution_count": 29,
   "metadata": {
    "colab": {
     "base_uri": "https://localhost:8080/"
    },
    "executionInfo": {
     "elapsed": 379,
     "status": "ok",
     "timestamp": 1730699259894,
     "user": {
      "displayName": "Alexander Booth",
      "userId": "02269714993535573104"
     },
     "user_tz": 360
    },
    "id": "VsMoaQlgGc3U",
    "outputId": "636c85ba-ee63-4087-b7d1-00b408f1055a"
   },
   "outputs": [
    {
     "name": "stdout",
     "output_type": "stream",
     "text": [
      "\u001b[1m10/10\u001b[0m \u001b[32m━━━━━━━━━━━━━━━━━━━━\u001b[0m\u001b[37m\u001b[0m \u001b[1m0s\u001b[0m 2ms/step - Attrition_Output_accuracy: 0.8491 - Attrition_Output_loss: 0.9462 - Department_Output_accuracy: 0.6917 - Department_Output_loss: 46.4131 - loss: 47.4027 \n",
      "Available metric names: ['loss', 'compile_metrics', 'Department_Output_loss', 'Attrition_Output_loss']\n"
     ]
    }
   ],
   "source": [
    "# Evaluate the model on the test data\n",
    "evaluation_results = model.evaluate(\n",
    "    X_test_scaled, \n",
    "    {\n",
    "        \"Department_Output\": y_test_department,\n",
    "        \"Attrition_Output\": y_test_attrition,\n",
    "    },\n",
    "    verbose=1\n",
    ")\n",
    "\n",
    "# Print all available metric names again\n",
    "print(\"Available metric names:\", model.metrics_names)\n"
   ]
  },
  {
   "cell_type": "code",
   "execution_count": 30,
   "metadata": {
    "colab": {
     "base_uri": "https://localhost:8080/"
    },
    "executionInfo": {
     "elapsed": 113,
     "status": "ok",
     "timestamp": 1730699260004,
     "user": {
      "displayName": "Alexander Booth",
      "userId": "02269714993535573104"
     },
     "user_tz": 360
    },
    "id": "ZlCtlHi0Vt54",
    "outputId": "3a32435c-11cf-48da-81b5-1431d6c00da2"
   },
   "outputs": [
    {
     "name": "stdout",
     "output_type": "stream",
     "text": [
      "Department Prediction Accuracy: 57.65%\n",
      "Attrition Prediction Accuracy: 78.74%\n"
     ]
    }
   ],
   "source": [
    "# Print the accuracy for both department and attrition\n",
    "\n",
    "# Extract and print accuracy directly from history logs\n",
    "department_accuracy = history.history[\"Department_Output_accuracy\"][-1]  # Last epoch accuracy\n",
    "attrition_accuracy = history.history[\"Attrition_Output_accuracy\"][-1]  # Last epoch accuracy\n",
    "\n",
    "# Print the final accuracies\n",
    "print(f\"Department Prediction Accuracy: {department_accuracy * 100:.2f}%\")\n",
    "print(f\"Attrition Prediction Accuracy: {attrition_accuracy * 100:.2f}%\")\n",
    "\n"
   ]
  },
  {
   "cell_type": "markdown",
   "metadata": {
    "id": "eGSyfsZfWOQM"
   },
   "source": [
    "# Summary\n",
    "\n",
    "In the provided space below, briefly answer the following questions.\n",
    "\n",
    "1. Is accuracy the best metric to use on this data? Why or why not?\n",
    "\n",
    "2. What activation functions did you choose for your output layers, and why?\n",
    "\n",
    "3. Can you name a few ways that this model might be improved?"
   ]
  },
  {
   "cell_type": "markdown",
   "metadata": {
    "id": "pi9SLpFnWvbF"
   },
   "source": [
    "YOUR ANSWERS HERE\n",
    "\n",
    "## 1. Is Accuracy the Best Metric for This Data?\n",
    "**Not necessarily.** While accuracy is a common metric, it may not be the best choice due to potential class imbalances and misclassification costs.\n",
    "\n",
    "#### Issues with Accuracy:\n",
    "1. **Imbalanced Data** – If most employees do not leave, accuracy can be misleading.\n",
    "2. **False Positives & False Negatives** – Accuracy does not distinguish between important errors.\n",
    "3. **Multi-Class Classification** – It does not consider class distribution for department prediction.\n",
    "\n",
    "#### Better Metrics to Use:\n",
    "- **Attrition (Binary Classification)** → **Precision, Recall, F1-score**  \n",
    "- **Department (Multi-Class Classification)** → **Weighted F1-score**  \n",
    "\n",
    "**Why?** These metrics provide a better balance of predictive performance, especially in imbalanced datasets.\n",
    "\n",
    "## 2. Activation Functions for Output Layers\n",
    "\n",
    "1. **Department Output (Multi-Class Classification)**\n",
    "   - **Activation:** `softmax`\n",
    "   - **Why?**  \n",
    "     - Converts logits into probabilities across multiple categories.\n",
    "     - Ensures the sum of all output probabilities is 1, making it ideal for multi-class classification.\n",
    "\n",
    "2. **Attrition Output (Binary Classification)**\n",
    "   - **Activation:** `sigmoid`\n",
    "   - **Why?**  \n",
    "     - Outputs a probability between 0 and 1, perfect for binary classification.\n",
    "     - Helps in interpreting predictions as probabilities for \"Yes\" or \"No\" attrition.\n",
    "\n",
    "**Softmax for multi-class & Sigmoid for binary classification ensure proper probability distribution and accurate predictions.**\n",
    " \n",
    "## 3. Ways to Improve the Model\n",
    "\n",
    "1. **Feature Engineering**  \n",
    "   - Add more relevant features (e.g., job satisfaction trends, promotion history).  \n",
    "   - Remove irrelevant or highly correlated features to reduce noise.\n",
    "\n",
    "2. **Hyperparameter Tuning**  \n",
    "   - Optimize learning rate, batch size, and number of neurons using Grid Search or Random Search.  \n",
    "   - Experiment with different numbers of layers and neurons.\n",
    "\n",
    "3. **Regularization Techniques**  \n",
    "   - Use **Dropout** layers to prevent overfitting.  \n",
    "   - Apply **L1/L2 regularization** to stabilize weights.\n",
    "\n",
    "4. **Better Handling of Class Imbalance**  \n",
    "   - Use **SMOTE (Synthetic Minority Over-sampling Technique)** to balance the dataset.  \n",
    "   - Adjust class weights during training to give more importance to underrepresented classes.\n",
    "\n",
    "5. **Alternative Model Architectures**  \n",
    "   - Try **Random Forest** or **Gradient Boosting (XGBoost)** for better interpretability.  \n",
    "   - Use **Recurrent Neural Networks (RNNs)** if time-series data is available.\n",
    "\n",
    "6. **More Data & Augmentation**  \n",
    "   - Collect more employee records to improve generalization.  \n",
    "   - Augment categorical data by creating synthetic samples.\n",
    "\n",
    " **Applying these techniques can improve model performance, generalization, and reliability.**\n",
    " "
   ]
  }
 ],
 "metadata": {
  "colab": {
   "provenance": []
  },
  "kernelspec": {
   "display_name": "base",
   "language": "python",
   "name": "python3"
  },
  "language_info": {
   "codemirror_mode": {
    "name": "ipython",
    "version": 3
   },
   "file_extension": ".py",
   "mimetype": "text/x-python",
   "name": "python",
   "nbconvert_exporter": "python",
   "pygments_lexer": "ipython3",
   "version": "3.12.4"
  }
 },
 "nbformat": 4,
 "nbformat_minor": 0
}
